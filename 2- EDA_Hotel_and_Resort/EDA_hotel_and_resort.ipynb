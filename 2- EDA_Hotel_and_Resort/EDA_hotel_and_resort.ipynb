{
  "nbformat": 4,
  "nbformat_minor": 0,
  "metadata": {
    "colab": {
      "name": "EDA_hotel_and_resort.ipynb",
      "provenance": [],
      "collapsed_sections": [
        "1IfoVyFTSF7L"
      ]
    },
    "kernelspec": {
      "name": "python3",
      "display_name": "Python 3"
    },
    "language_info": {
      "name": "python"
    }
  },
  "cells": [
    {
      "cell_type": "markdown",
      "source": [
        "## 0. Objetivos :\n",
        "\n",
        "Vamos explorar esses dados com o objetivo de conhecer nossos clientes e reconhecer os pontos positivos e negativos na linha de tempo do Resort e Hotel.\n",
        "\n",
        "OBS: após isso vamos separar alguns clientes para apontar eventuais promoções."
      ],
      "metadata": {
        "id": "lpK92YgJQ1Tc"
      }
    },
    {
      "cell_type": "markdown",
      "source": [
        "### **Dataset**:\n",
        "\n",
        "Esse dataset contem 119390 linhas de registros de reserva de um Hotel/Resort; Onde vamos usar:\n",
        "\n",
        "\n",
        "*   **is_canceled**: 0 está cancelado / 1 está ativo\n",
        "\n",
        "*   **stays_in_weekend_nights**: Quantidade de noites no final de semana\n",
        "\n",
        "*   **stays_in_week_nights**: Quantidade de noites durante a semana\n",
        "\n",
        "*   **arrival_date_month**: Mes chegada\n",
        "\n",
        "*   **reservation_status**: Status da Reserva\n",
        "\n",
        "*   **country**: País\n",
        "\n",
        "*   **adr**: Valor da noite [EUR]\n",
        "\n",
        "*   **children**: Crianças por família\n",
        "\n",
        "*   **babies** : bebes por família"
      ],
      "metadata": {
        "id": "9VLyKJ1VpPCA"
      }
    },
    {
      "cell_type": "markdown",
      "source": [
        "### Resumo:"
      ],
      "metadata": {
        "id": "E40MLM8OwqwA"
      }
    },
    {
      "cell_type": "markdown",
      "source": [
        "## 1. Importações\n",
        " "
      ],
      "metadata": {
        "id": "caUBaAt1R1AD"
      }
    },
    {
      "cell_type": "code",
      "execution_count": null,
      "metadata": {
        "id": "gfMctpvIpM1Z"
      },
      "outputs": [],
      "source": [
        "import numpy as np\n",
        "import pandas as pd\n",
        "import seaborn as sns\n",
        "import matplotlib.pyplot as plt"
      ]
    },
    {
      "cell_type": "markdown",
      "source": [
        "## 2. Data Wrangling"
      ],
      "metadata": {
        "id": "1IfoVyFTSF7L"
      }
    },
    {
      "cell_type": "code",
      "source": [
        "data = pd.read_csv('./hotel_booking.csv')"
      ],
      "metadata": {
        "id": "v-ReBqw6qO_S"
      },
      "execution_count": null,
      "outputs": []
    },
    {
      "cell_type": "code",
      "source": [
        "data.head()"
      ],
      "metadata": {
        "id": "YT2e_OaMqgVV",
        "colab": {
          "base_uri": "https://localhost:8080/"
        },
        "outputId": "6e26916e-8312-4f89-d018-5713623b748b"
      },
      "execution_count": null,
      "outputs": [
        {
          "output_type": "execute_result",
          "data": {
            "text/html": [
              "\n",
              "  <div id=\"df-fbf1b444-85dc-4f59-847e-9afec449559f\">\n",
              "    <div class=\"colab-df-container\">\n",
              "      <div>\n",
              "<style scoped>\n",
              "    .dataframe tbody tr th:only-of-type {\n",
              "        vertical-align: middle;\n",
              "    }\n",
              "\n",
              "    .dataframe tbody tr th {\n",
              "        vertical-align: top;\n",
              "    }\n",
              "\n",
              "    .dataframe thead th {\n",
              "        text-align: right;\n",
              "    }\n",
              "</style>\n",
              "<table border=\"1\" class=\"dataframe\">\n",
              "  <thead>\n",
              "    <tr style=\"text-align: right;\">\n",
              "      <th></th>\n",
              "      <th>hotel</th>\n",
              "      <th>is_canceled</th>\n",
              "      <th>lead_time</th>\n",
              "      <th>arrival_date_year</th>\n",
              "      <th>arrival_date_month</th>\n",
              "      <th>arrival_date_week_number</th>\n",
              "      <th>arrival_date_day_of_month</th>\n",
              "      <th>stays_in_weekend_nights</th>\n",
              "      <th>stays_in_week_nights</th>\n",
              "      <th>adults</th>\n",
              "      <th>...</th>\n",
              "      <th>customer_type</th>\n",
              "      <th>adr</th>\n",
              "      <th>required_car_parking_spaces</th>\n",
              "      <th>total_of_special_requests</th>\n",
              "      <th>reservation_status</th>\n",
              "      <th>reservation_status_date</th>\n",
              "      <th>name</th>\n",
              "      <th>email</th>\n",
              "      <th>phone-number</th>\n",
              "      <th>credit_card</th>\n",
              "    </tr>\n",
              "  </thead>\n",
              "  <tbody>\n",
              "    <tr>\n",
              "      <th>0</th>\n",
              "      <td>Resort Hotel</td>\n",
              "      <td>0</td>\n",
              "      <td>342</td>\n",
              "      <td>2015</td>\n",
              "      <td>July</td>\n",
              "      <td>27</td>\n",
              "      <td>1</td>\n",
              "      <td>0</td>\n",
              "      <td>0</td>\n",
              "      <td>2</td>\n",
              "      <td>...</td>\n",
              "      <td>Transient</td>\n",
              "      <td>0.0</td>\n",
              "      <td>0</td>\n",
              "      <td>0</td>\n",
              "      <td>Check-Out</td>\n",
              "      <td>2015-07-01</td>\n",
              "      <td>Ernest Barnes</td>\n",
              "      <td>Ernest.Barnes31@outlook.com</td>\n",
              "      <td>669-792-1661</td>\n",
              "      <td>************4322</td>\n",
              "    </tr>\n",
              "    <tr>\n",
              "      <th>1</th>\n",
              "      <td>Resort Hotel</td>\n",
              "      <td>0</td>\n",
              "      <td>737</td>\n",
              "      <td>2015</td>\n",
              "      <td>July</td>\n",
              "      <td>27</td>\n",
              "      <td>1</td>\n",
              "      <td>0</td>\n",
              "      <td>0</td>\n",
              "      <td>2</td>\n",
              "      <td>...</td>\n",
              "      <td>Transient</td>\n",
              "      <td>0.0</td>\n",
              "      <td>0</td>\n",
              "      <td>0</td>\n",
              "      <td>Check-Out</td>\n",
              "      <td>2015-07-01</td>\n",
              "      <td>Andrea Baker</td>\n",
              "      <td>Andrea_Baker94@aol.com</td>\n",
              "      <td>858-637-6955</td>\n",
              "      <td>************9157</td>\n",
              "    </tr>\n",
              "    <tr>\n",
              "      <th>2</th>\n",
              "      <td>Resort Hotel</td>\n",
              "      <td>0</td>\n",
              "      <td>7</td>\n",
              "      <td>2015</td>\n",
              "      <td>July</td>\n",
              "      <td>27</td>\n",
              "      <td>1</td>\n",
              "      <td>0</td>\n",
              "      <td>1</td>\n",
              "      <td>1</td>\n",
              "      <td>...</td>\n",
              "      <td>Transient</td>\n",
              "      <td>75.0</td>\n",
              "      <td>0</td>\n",
              "      <td>0</td>\n",
              "      <td>Check-Out</td>\n",
              "      <td>2015-07-02</td>\n",
              "      <td>Rebecca Parker</td>\n",
              "      <td>Rebecca_Parker@comcast.net</td>\n",
              "      <td>652-885-2745</td>\n",
              "      <td>************3734</td>\n",
              "    </tr>\n",
              "    <tr>\n",
              "      <th>3</th>\n",
              "      <td>Resort Hotel</td>\n",
              "      <td>0</td>\n",
              "      <td>13</td>\n",
              "      <td>2015</td>\n",
              "      <td>July</td>\n",
              "      <td>27</td>\n",
              "      <td>1</td>\n",
              "      <td>0</td>\n",
              "      <td>1</td>\n",
              "      <td>1</td>\n",
              "      <td>...</td>\n",
              "      <td>Transient</td>\n",
              "      <td>75.0</td>\n",
              "      <td>0</td>\n",
              "      <td>0</td>\n",
              "      <td>Check-Out</td>\n",
              "      <td>2015-07-02</td>\n",
              "      <td>Laura Murray</td>\n",
              "      <td>Laura_M@gmail.com</td>\n",
              "      <td>364-656-8427</td>\n",
              "      <td>************5677</td>\n",
              "    </tr>\n",
              "    <tr>\n",
              "      <th>4</th>\n",
              "      <td>Resort Hotel</td>\n",
              "      <td>0</td>\n",
              "      <td>14</td>\n",
              "      <td>2015</td>\n",
              "      <td>July</td>\n",
              "      <td>27</td>\n",
              "      <td>1</td>\n",
              "      <td>0</td>\n",
              "      <td>2</td>\n",
              "      <td>2</td>\n",
              "      <td>...</td>\n",
              "      <td>Transient</td>\n",
              "      <td>98.0</td>\n",
              "      <td>0</td>\n",
              "      <td>1</td>\n",
              "      <td>Check-Out</td>\n",
              "      <td>2015-07-03</td>\n",
              "      <td>Linda Hines</td>\n",
              "      <td>LHines@verizon.com</td>\n",
              "      <td>713-226-5883</td>\n",
              "      <td>************5498</td>\n",
              "    </tr>\n",
              "  </tbody>\n",
              "</table>\n",
              "<p>5 rows × 36 columns</p>\n",
              "</div>\n",
              "      <button class=\"colab-df-convert\" onclick=\"convertToInteractive('df-fbf1b444-85dc-4f59-847e-9afec449559f')\"\n",
              "              title=\"Convert this dataframe to an interactive table.\"\n",
              "              style=\"display:none;\">\n",
              "        \n",
              "  <svg xmlns=\"http://www.w3.org/2000/svg\" height=\"24px\"viewBox=\"0 0 24 24\"\n",
              "       width=\"24px\">\n",
              "    <path d=\"M0 0h24v24H0V0z\" fill=\"none\"/>\n",
              "    <path d=\"M18.56 5.44l.94 2.06.94-2.06 2.06-.94-2.06-.94-.94-2.06-.94 2.06-2.06.94zm-11 1L8.5 8.5l.94-2.06 2.06-.94-2.06-.94L8.5 2.5l-.94 2.06-2.06.94zm10 10l.94 2.06.94-2.06 2.06-.94-2.06-.94-.94-2.06-.94 2.06-2.06.94z\"/><path d=\"M17.41 7.96l-1.37-1.37c-.4-.4-.92-.59-1.43-.59-.52 0-1.04.2-1.43.59L10.3 9.45l-7.72 7.72c-.78.78-.78 2.05 0 2.83L4 21.41c.39.39.9.59 1.41.59.51 0 1.02-.2 1.41-.59l7.78-7.78 2.81-2.81c.8-.78.8-2.07 0-2.86zM5.41 20L4 18.59l7.72-7.72 1.47 1.35L5.41 20z\"/>\n",
              "  </svg>\n",
              "      </button>\n",
              "      \n",
              "  <style>\n",
              "    .colab-df-container {\n",
              "      display:flex;\n",
              "      flex-wrap:wrap;\n",
              "      gap: 12px;\n",
              "    }\n",
              "\n",
              "    .colab-df-convert {\n",
              "      background-color: #E8F0FE;\n",
              "      border: none;\n",
              "      border-radius: 50%;\n",
              "      cursor: pointer;\n",
              "      display: none;\n",
              "      fill: #1967D2;\n",
              "      height: 32px;\n",
              "      padding: 0 0 0 0;\n",
              "      width: 32px;\n",
              "    }\n",
              "\n",
              "    .colab-df-convert:hover {\n",
              "      background-color: #E2EBFA;\n",
              "      box-shadow: 0px 1px 2px rgba(60, 64, 67, 0.3), 0px 1px 3px 1px rgba(60, 64, 67, 0.15);\n",
              "      fill: #174EA6;\n",
              "    }\n",
              "\n",
              "    [theme=dark] .colab-df-convert {\n",
              "      background-color: #3B4455;\n",
              "      fill: #D2E3FC;\n",
              "    }\n",
              "\n",
              "    [theme=dark] .colab-df-convert:hover {\n",
              "      background-color: #434B5C;\n",
              "      box-shadow: 0px 1px 3px 1px rgba(0, 0, 0, 0.15);\n",
              "      filter: drop-shadow(0px 1px 2px rgba(0, 0, 0, 0.3));\n",
              "      fill: #FFFFFF;\n",
              "    }\n",
              "  </style>\n",
              "\n",
              "      <script>\n",
              "        const buttonEl =\n",
              "          document.querySelector('#df-fbf1b444-85dc-4f59-847e-9afec449559f button.colab-df-convert');\n",
              "        buttonEl.style.display =\n",
              "          google.colab.kernel.accessAllowed ? 'block' : 'none';\n",
              "\n",
              "        async function convertToInteractive(key) {\n",
              "          const element = document.querySelector('#df-fbf1b444-85dc-4f59-847e-9afec449559f');\n",
              "          const dataTable =\n",
              "            await google.colab.kernel.invokeFunction('convertToInteractive',\n",
              "                                                     [key], {});\n",
              "          if (!dataTable) return;\n",
              "\n",
              "          const docLinkHtml = 'Like what you see? Visit the ' +\n",
              "            '<a target=\"_blank\" href=https://colab.research.google.com/notebooks/data_table.ipynb>data table notebook</a>'\n",
              "            + ' to learn more about interactive tables.';\n",
              "          element.innerHTML = '';\n",
              "          dataTable['output_type'] = 'display_data';\n",
              "          await google.colab.output.renderOutput(dataTable, element);\n",
              "          const docLink = document.createElement('div');\n",
              "          docLink.innerHTML = docLinkHtml;\n",
              "          element.appendChild(docLink);\n",
              "        }\n",
              "      </script>\n",
              "    </div>\n",
              "  </div>\n",
              "  "
            ],
            "text/plain": [
              "          hotel  is_canceled  lead_time  arrival_date_year arrival_date_month  \\\n",
              "0  Resort Hotel            0        342               2015               July   \n",
              "1  Resort Hotel            0        737               2015               July   \n",
              "2  Resort Hotel            0          7               2015               July   \n",
              "3  Resort Hotel            0         13               2015               July   \n",
              "4  Resort Hotel            0         14               2015               July   \n",
              "\n",
              "   arrival_date_week_number  arrival_date_day_of_month  \\\n",
              "0                        27                          1   \n",
              "1                        27                          1   \n",
              "2                        27                          1   \n",
              "3                        27                          1   \n",
              "4                        27                          1   \n",
              "\n",
              "   stays_in_weekend_nights  stays_in_week_nights  adults  ...  customer_type  \\\n",
              "0                        0                     0       2  ...      Transient   \n",
              "1                        0                     0       2  ...      Transient   \n",
              "2                        0                     1       1  ...      Transient   \n",
              "3                        0                     1       1  ...      Transient   \n",
              "4                        0                     2       2  ...      Transient   \n",
              "\n",
              "    adr required_car_parking_spaces total_of_special_requests  \\\n",
              "0   0.0                           0                         0   \n",
              "1   0.0                           0                         0   \n",
              "2  75.0                           0                         0   \n",
              "3  75.0                           0                         0   \n",
              "4  98.0                           0                         1   \n",
              "\n",
              "  reservation_status reservation_status_date            name  \\\n",
              "0          Check-Out              2015-07-01   Ernest Barnes   \n",
              "1          Check-Out              2015-07-01    Andrea Baker   \n",
              "2          Check-Out              2015-07-02  Rebecca Parker   \n",
              "3          Check-Out              2015-07-02    Laura Murray   \n",
              "4          Check-Out              2015-07-03     Linda Hines   \n",
              "\n",
              "                         email  phone-number       credit_card  \n",
              "0  Ernest.Barnes31@outlook.com  669-792-1661  ************4322  \n",
              "1       Andrea_Baker94@aol.com  858-637-6955  ************9157  \n",
              "2   Rebecca_Parker@comcast.net  652-885-2745  ************3734  \n",
              "3            Laura_M@gmail.com  364-656-8427  ************5677  \n",
              "4           LHines@verizon.com  713-226-5883  ************5498  \n",
              "\n",
              "[5 rows x 36 columns]"
            ]
          },
          "metadata": {},
          "execution_count": 3
        }
      ]
    },
    {
      "cell_type": "code",
      "source": [
        "data['hotel'].drop_duplicates()"
      ],
      "metadata": {
        "id": "iuNi0RYphSa3",
        "colab": {
          "base_uri": "https://localhost:8080/"
        },
        "outputId": "f15693d6-df59-4c97-c2f9-f52a859fb415"
      },
      "execution_count": null,
      "outputs": [
        {
          "output_type": "execute_result",
          "data": {
            "text/plain": [
              "0        Resort Hotel\n",
              "40060      City Hotel\n",
              "Name: hotel, dtype: object"
            ]
          },
          "metadata": {},
          "execution_count": 4
        }
      ]
    },
    {
      "cell_type": "code",
      "source": [
        "data.dtypes"
      ],
      "metadata": {
        "id": "RjyiOGx4xNeD",
        "colab": {
          "base_uri": "https://localhost:8080/"
        },
        "outputId": "cf49a93b-4b60-4c81-9859-096394ca09ee"
      },
      "execution_count": null,
      "outputs": [
        {
          "output_type": "execute_result",
          "data": {
            "text/plain": [
              "hotel                              object\n",
              "is_canceled                         int64\n",
              "lead_time                           int64\n",
              "arrival_date_year                   int64\n",
              "arrival_date_month                 object\n",
              "arrival_date_week_number            int64\n",
              "arrival_date_day_of_month           int64\n",
              "stays_in_weekend_nights             int64\n",
              "stays_in_week_nights                int64\n",
              "adults                              int64\n",
              "children                          float64\n",
              "babies                              int64\n",
              "meal                               object\n",
              "country                            object\n",
              "market_segment                     object\n",
              "distribution_channel               object\n",
              "is_repeated_guest                   int64\n",
              "previous_cancellations              int64\n",
              "previous_bookings_not_canceled      int64\n",
              "reserved_room_type                 object\n",
              "assigned_room_type                 object\n",
              "booking_changes                     int64\n",
              "deposit_type                       object\n",
              "agent                             float64\n",
              "company                           float64\n",
              "days_in_waiting_list                int64\n",
              "customer_type                      object\n",
              "adr                               float64\n",
              "required_car_parking_spaces         int64\n",
              "total_of_special_requests           int64\n",
              "reservation_status                 object\n",
              "reservation_status_date            object\n",
              "name                               object\n",
              "email                              object\n",
              "phone-number                       object\n",
              "credit_card                        object\n",
              "dtype: object"
            ]
          },
          "metadata": {},
          "execution_count": 5
        }
      ]
    },
    {
      "cell_type": "code",
      "source": [
        "# Identificando o numero de linhas.\n",
        "\n",
        "#data.count(axis=0)\n",
        "#data.shape[0]\n",
        "\n",
        "rows = len(data.index)\n",
        "print(f' Total numero de linhas: {rows}')"
      ],
      "metadata": {
        "colab": {
          "base_uri": "https://localhost:8080/"
        },
        "id": "6rtHs_INS10u",
        "outputId": "b21a28bf-5bb6-47ae-e97b-d3fd51b229ca"
      },
      "execution_count": null,
      "outputs": [
        {
          "output_type": "stream",
          "name": "stdout",
          "text": [
            " Total numero de linhas: 119390\n"
          ]
        }
      ]
    },
    {
      "cell_type": "markdown",
      "source": [
        "\n",
        "\n",
        "*   Caso exista dados ausentes, qual a coluna mais ausente?\n",
        "\n"
      ],
      "metadata": {
        "id": "v8uDcKasaZwA"
      }
    },
    {
      "cell_type": "code",
      "source": [
        "\n",
        "#print(missing) ----> Essa é a soma de valores ausente de cada coluna\n",
        "missing = data.isnull().sum()\n",
        "\n",
        "print('Essas são as colunas com valores ausentes:', data.columns[data.isnull().any()].tolist())\n",
        "print(f'Onde - {missing.idxmax()} - Tem o maior numero de dados ausentes {missing.max()} linhas')\n",
        "print()"
      ],
      "metadata": {
        "id": "PR03xtuHUaxw",
        "colab": {
          "base_uri": "https://localhost:8080/"
        },
        "outputId": "b206029a-f4e2-4b3a-c60d-c1753e8120bd"
      },
      "execution_count": null,
      "outputs": [
        {
          "output_type": "stream",
          "name": "stdout",
          "text": [
            "Essas são as colunas com valores ausentes: ['children', 'country', 'agent', 'company']\n",
            "Onde - company - Tem o maior numero de dados ausentes 112593 linhas\n",
            "\n"
          ]
        }
      ]
    },
    {
      "cell_type": "code",
      "source": [
        "data.drop('company', inplace=False, axis=1).head(n=1)"
      ],
      "metadata": {
        "id": "ybwT5mJsxzCi",
        "colab": {
          "base_uri": "https://localhost:8080/"
        },
        "outputId": "3f0eace8-2cdf-4af7-a647-1c96a5dde552"
      },
      "execution_count": null,
      "outputs": [
        {
          "output_type": "execute_result",
          "data": {
            "text/html": [
              "\n",
              "  <div id=\"df-7fdfd7a1-c211-4c94-884c-e928fac574eb\">\n",
              "    <div class=\"colab-df-container\">\n",
              "      <div>\n",
              "<style scoped>\n",
              "    .dataframe tbody tr th:only-of-type {\n",
              "        vertical-align: middle;\n",
              "    }\n",
              "\n",
              "    .dataframe tbody tr th {\n",
              "        vertical-align: top;\n",
              "    }\n",
              "\n",
              "    .dataframe thead th {\n",
              "        text-align: right;\n",
              "    }\n",
              "</style>\n",
              "<table border=\"1\" class=\"dataframe\">\n",
              "  <thead>\n",
              "    <tr style=\"text-align: right;\">\n",
              "      <th></th>\n",
              "      <th>hotel</th>\n",
              "      <th>is_canceled</th>\n",
              "      <th>lead_time</th>\n",
              "      <th>arrival_date_year</th>\n",
              "      <th>arrival_date_month</th>\n",
              "      <th>arrival_date_week_number</th>\n",
              "      <th>arrival_date_day_of_month</th>\n",
              "      <th>stays_in_weekend_nights</th>\n",
              "      <th>stays_in_week_nights</th>\n",
              "      <th>adults</th>\n",
              "      <th>...</th>\n",
              "      <th>customer_type</th>\n",
              "      <th>adr</th>\n",
              "      <th>required_car_parking_spaces</th>\n",
              "      <th>total_of_special_requests</th>\n",
              "      <th>reservation_status</th>\n",
              "      <th>reservation_status_date</th>\n",
              "      <th>name</th>\n",
              "      <th>email</th>\n",
              "      <th>phone-number</th>\n",
              "      <th>credit_card</th>\n",
              "    </tr>\n",
              "  </thead>\n",
              "  <tbody>\n",
              "    <tr>\n",
              "      <th>0</th>\n",
              "      <td>Resort Hotel</td>\n",
              "      <td>0</td>\n",
              "      <td>342</td>\n",
              "      <td>2015</td>\n",
              "      <td>July</td>\n",
              "      <td>27</td>\n",
              "      <td>1</td>\n",
              "      <td>0</td>\n",
              "      <td>0</td>\n",
              "      <td>2</td>\n",
              "      <td>...</td>\n",
              "      <td>Transient</td>\n",
              "      <td>0.0</td>\n",
              "      <td>0</td>\n",
              "      <td>0</td>\n",
              "      <td>Check-Out</td>\n",
              "      <td>2015-07-01</td>\n",
              "      <td>Ernest Barnes</td>\n",
              "      <td>Ernest.Barnes31@outlook.com</td>\n",
              "      <td>669-792-1661</td>\n",
              "      <td>************4322</td>\n",
              "    </tr>\n",
              "  </tbody>\n",
              "</table>\n",
              "<p>1 rows × 35 columns</p>\n",
              "</div>\n",
              "      <button class=\"colab-df-convert\" onclick=\"convertToInteractive('df-7fdfd7a1-c211-4c94-884c-e928fac574eb')\"\n",
              "              title=\"Convert this dataframe to an interactive table.\"\n",
              "              style=\"display:none;\">\n",
              "        \n",
              "  <svg xmlns=\"http://www.w3.org/2000/svg\" height=\"24px\"viewBox=\"0 0 24 24\"\n",
              "       width=\"24px\">\n",
              "    <path d=\"M0 0h24v24H0V0z\" fill=\"none\"/>\n",
              "    <path d=\"M18.56 5.44l.94 2.06.94-2.06 2.06-.94-2.06-.94-.94-2.06-.94 2.06-2.06.94zm-11 1L8.5 8.5l.94-2.06 2.06-.94-2.06-.94L8.5 2.5l-.94 2.06-2.06.94zm10 10l.94 2.06.94-2.06 2.06-.94-2.06-.94-.94-2.06-.94 2.06-2.06.94z\"/><path d=\"M17.41 7.96l-1.37-1.37c-.4-.4-.92-.59-1.43-.59-.52 0-1.04.2-1.43.59L10.3 9.45l-7.72 7.72c-.78.78-.78 2.05 0 2.83L4 21.41c.39.39.9.59 1.41.59.51 0 1.02-.2 1.41-.59l7.78-7.78 2.81-2.81c.8-.78.8-2.07 0-2.86zM5.41 20L4 18.59l7.72-7.72 1.47 1.35L5.41 20z\"/>\n",
              "  </svg>\n",
              "      </button>\n",
              "      \n",
              "  <style>\n",
              "    .colab-df-container {\n",
              "      display:flex;\n",
              "      flex-wrap:wrap;\n",
              "      gap: 12px;\n",
              "    }\n",
              "\n",
              "    .colab-df-convert {\n",
              "      background-color: #E8F0FE;\n",
              "      border: none;\n",
              "      border-radius: 50%;\n",
              "      cursor: pointer;\n",
              "      display: none;\n",
              "      fill: #1967D2;\n",
              "      height: 32px;\n",
              "      padding: 0 0 0 0;\n",
              "      width: 32px;\n",
              "    }\n",
              "\n",
              "    .colab-df-convert:hover {\n",
              "      background-color: #E2EBFA;\n",
              "      box-shadow: 0px 1px 2px rgba(60, 64, 67, 0.3), 0px 1px 3px 1px rgba(60, 64, 67, 0.15);\n",
              "      fill: #174EA6;\n",
              "    }\n",
              "\n",
              "    [theme=dark] .colab-df-convert {\n",
              "      background-color: #3B4455;\n",
              "      fill: #D2E3FC;\n",
              "    }\n",
              "\n",
              "    [theme=dark] .colab-df-convert:hover {\n",
              "      background-color: #434B5C;\n",
              "      box-shadow: 0px 1px 3px 1px rgba(0, 0, 0, 0.15);\n",
              "      filter: drop-shadow(0px 1px 2px rgba(0, 0, 0, 0.3));\n",
              "      fill: #FFFFFF;\n",
              "    }\n",
              "  </style>\n",
              "\n",
              "      <script>\n",
              "        const buttonEl =\n",
              "          document.querySelector('#df-7fdfd7a1-c211-4c94-884c-e928fac574eb button.colab-df-convert');\n",
              "        buttonEl.style.display =\n",
              "          google.colab.kernel.accessAllowed ? 'block' : 'none';\n",
              "\n",
              "        async function convertToInteractive(key) {\n",
              "          const element = document.querySelector('#df-7fdfd7a1-c211-4c94-884c-e928fac574eb');\n",
              "          const dataTable =\n",
              "            await google.colab.kernel.invokeFunction('convertToInteractive',\n",
              "                                                     [key], {});\n",
              "          if (!dataTable) return;\n",
              "\n",
              "          const docLinkHtml = 'Like what you see? Visit the ' +\n",
              "            '<a target=\"_blank\" href=https://colab.research.google.com/notebooks/data_table.ipynb>data table notebook</a>'\n",
              "            + ' to learn more about interactive tables.';\n",
              "          element.innerHTML = '';\n",
              "          dataTable['output_type'] = 'display_data';\n",
              "          await google.colab.output.renderOutput(dataTable, element);\n",
              "          const docLink = document.createElement('div');\n",
              "          docLink.innerHTML = docLinkHtml;\n",
              "          element.appendChild(docLink);\n",
              "        }\n",
              "      </script>\n",
              "    </div>\n",
              "  </div>\n",
              "  "
            ],
            "text/plain": [
              "          hotel  is_canceled  lead_time  arrival_date_year arrival_date_month  \\\n",
              "0  Resort Hotel            0        342               2015               July   \n",
              "\n",
              "   arrival_date_week_number  arrival_date_day_of_month  \\\n",
              "0                        27                          1   \n",
              "\n",
              "   stays_in_weekend_nights  stays_in_week_nights  adults  ...  customer_type  \\\n",
              "0                        0                     0       2  ...      Transient   \n",
              "\n",
              "   adr required_car_parking_spaces total_of_special_requests  \\\n",
              "0  0.0                           0                         0   \n",
              "\n",
              "  reservation_status reservation_status_date           name  \\\n",
              "0          Check-Out              2015-07-01  Ernest Barnes   \n",
              "\n",
              "                         email  phone-number       credit_card  \n",
              "0  Ernest.Barnes31@outlook.com  669-792-1661  ************4322  \n",
              "\n",
              "[1 rows x 35 columns]"
            ]
          },
          "metadata": {},
          "execution_count": 8
        }
      ]
    },
    {
      "cell_type": "markdown",
      "source": [
        "## 3. Analise exploratória"
      ],
      "metadata": {
        "id": "x44ojvCkyIiu"
      }
    },
    {
      "cell_type": "markdown",
      "source": [
        "\n",
        "\n",
        "*   Os 5 paises com maior numero de passageiros.\n",
        "\n"
      ],
      "metadata": {
        "id": "5iCcc6NOYiXa"
      }
    },
    {
      "cell_type": "code",
      "source": [
        "data.query('is_canceled == 1')['arrival_date_month'].value_counts()[:]"
      ],
      "metadata": {
        "colab": {
          "base_uri": "https://localhost:8080/"
        },
        "id": "R6jJ_nU6TJ5Y",
        "outputId": "89fedbce-758b-4f03-e88b-26da452303fb"
      },
      "execution_count": null,
      "outputs": [
        {
          "output_type": "execute_result",
          "data": {
            "text/plain": [
              "August       5239\n",
              "July         4742\n",
              "May          4677\n",
              "June         4535\n",
              "April        4524\n",
              "October      4246\n",
              "September    4116\n",
              "March        3149\n",
              "February     2696\n",
              "December     2371\n",
              "November     2122\n",
              "January      1807\n",
              "Name: arrival_date_month, dtype: int64"
            ]
          },
          "metadata": {},
          "execution_count": 25
        }
      ]
    },
    {
      "cell_type": "code",
      "source": [
        "data['country'].value_counts()[:5]"
      ],
      "metadata": {
        "id": "1f4h1rLkYsSp",
        "colab": {
          "base_uri": "https://localhost:8080/"
        },
        "outputId": "03108b2e-5ac1-4cb0-a3ac-a2eb740f2eb3"
      },
      "execution_count": null,
      "outputs": [
        {
          "output_type": "execute_result",
          "data": {
            "text/plain": [
              "PRT    48590\n",
              "GBR    12129\n",
              "FRA    10415\n",
              "ESP     8568\n",
              "DEU     7287\n",
              "Name: country, dtype: int64"
            ]
          },
          "metadata": {},
          "execution_count": 9
        }
      ]
    },
    {
      "cell_type": "markdown",
      "source": [
        "\n",
        "\n",
        "*   Qual a média de preço por noite (adr)?\n",
        "\n"
      ],
      "metadata": {
        "id": "KMrJ3n-qarix"
      }
    },
    {
      "cell_type": "code",
      "source": [
        "median_adr = data['adr'].mean()\n",
        "valor = np.round(median_adr, 2)\n",
        "\n",
        "print(f'A media de preço por noite é {valor} Euros')"
      ],
      "metadata": {
        "id": "SGcsYci2ax8p",
        "colab": {
          "base_uri": "https://localhost:8080/"
        },
        "outputId": "92e5863f-dace-42a4-e8aa-35f39f8e5761"
      },
      "execution_count": null,
      "outputs": [
        {
          "output_type": "stream",
          "name": "stdout",
          "text": [
            "A media de preço por noite é 101.83 Euros\n"
          ]
        }
      ]
    },
    {
      "cell_type": "markdown",
      "source": [
        "\n",
        "\n",
        "*   Qual cliente pagou a maior (adr)?\n",
        "\n"
      ],
      "metadata": {
        "id": "nB0baSgyZGD0"
      }
    },
    {
      "cell_type": "code",
      "source": [
        "max_idr = data['adr'].idxmax()\n",
        "name = data.iloc[max_idr]['name']\n",
        "pay = data.iloc[max_idr]['adr']\n",
        "\n",
        "print(f'Cliente: {name} pagou {pay} Euros')"
      ],
      "metadata": {
        "id": "e3zm2OUmwEWT",
        "colab": {
          "base_uri": "https://localhost:8080/"
        },
        "outputId": "a61cb76c-de47-48b7-9833-82f594384e6b"
      },
      "execution_count": null,
      "outputs": [
        {
          "output_type": "stream",
          "name": "stdout",
          "text": [
            "Cliente: Daniel Walter pagou 5400.0 Euros\n"
          ]
        }
      ]
    },
    {
      "cell_type": "markdown",
      "source": [
        "\n",
        "\n",
        "*   Destalhes da estadia de Daniel Walter\n",
        "\n"
      ],
      "metadata": {
        "id": "wShHvY-4zeV0"
      }
    },
    {
      "cell_type": "code",
      "source": [
        "data.iloc[max_idr]"
      ],
      "metadata": {
        "id": "uk0jbhCKzLny",
        "colab": {
          "base_uri": "https://localhost:8080/"
        },
        "outputId": "5f5326b0-f3a9-4f22-918b-5060e3421cea"
      },
      "execution_count": null,
      "outputs": [
        {
          "output_type": "execute_result",
          "data": {
            "text/plain": [
              "hotel                                             City Hotel\n",
              "is_canceled                                                1\n",
              "lead_time                                                 35\n",
              "arrival_date_year                                       2016\n",
              "arrival_date_month                                     March\n",
              "arrival_date_week_number                                  13\n",
              "arrival_date_day_of_month                                 25\n",
              "stays_in_weekend_nights                                    0\n",
              "stays_in_week_nights                                       1\n",
              "adults                                                     2\n",
              "children                                                 0.0\n",
              "babies                                                     0\n",
              "meal                                                      BB\n",
              "country                                                  PRT\n",
              "market_segment                                 Offline TA/TO\n",
              "distribution_channel                                   TA/TO\n",
              "is_repeated_guest                                          0\n",
              "previous_cancellations                                     0\n",
              "previous_bookings_not_canceled                             0\n",
              "reserved_room_type                                         A\n",
              "assigned_room_type                                         A\n",
              "booking_changes                                            1\n",
              "deposit_type                                      Non Refund\n",
              "agent                                                   12.0\n",
              "company                                                  NaN\n",
              "days_in_waiting_list                                       0\n",
              "customer_type                                      Transient\n",
              "adr                                                   5400.0\n",
              "required_car_parking_spaces                                0\n",
              "total_of_special_requests                                  0\n",
              "reservation_status                                  Canceled\n",
              "reservation_status_date                           2016-02-19\n",
              "name                                           Daniel Walter\n",
              "email                             DanielWalter27@comcast.net\n",
              "phone-number                                    865-280-5832\n",
              "credit_card                                 ************6075\n",
              "Name: 48515, dtype: object"
            ]
          },
          "metadata": {},
          "execution_count": 12
        }
      ]
    },
    {
      "cell_type": "markdown",
      "source": [
        "\n",
        "\n",
        "*   Qual é a média de noites por estadia\n",
        "\n"
      ],
      "metadata": {
        "id": "4HRqcFCwbZd7"
      }
    },
    {
      "cell_type": "code",
      "source": [
        "data['all_night_resort'] = data.query('hotel == \"Resort Hotel\"').apply(lambda x:\n",
        "                                                                       x['stays_in_weekend_nights'] + x['stays_in_week_nights'], axis=1)\n",
        "\n",
        "median_stays_resort = np.array(data['all_night_resort'].mean())\n",
        "\n",
        "data['all_night_hotel'] = data.query('hotel == \"City Hotel\"').apply(lambda x:\n",
        "                                                                       x['stays_in_weekend_nights'] + x['stays_in_week_nights'], axis=1)\n",
        "\n",
        "median_stays_hotel = np.array(data['all_night_hotel'].mean())\n",
        "\n",
        "print(f'Media de estadias no Resort: {np.round(median_stays_resort, 1)} dias')\n",
        "print(f'Media de estadias no Hotel: {np.round(median_stays_hotel, 1)} dias')"
      ],
      "metadata": {
        "colab": {
          "base_uri": "https://localhost:8080/"
        },
        "id": "zEz1b7FBbnk4",
        "outputId": "3be52aca-fa58-47e7-f004-36f87dd81ceb"
      },
      "execution_count": null,
      "outputs": [
        {
          "output_type": "stream",
          "name": "stdout",
          "text": [
            "Media de estadias no Resort: 4.3 dias\n",
            "Media de estadias no Hotel: 3.0 dias\n"
          ]
        }
      ]
    },
    {
      "cell_type": "markdown",
      "source": [
        "\n",
        "\n",
        "*   Como o preço por noite (adr) varia durante os meses do ano\n",
        "\n"
      ],
      "metadata": {
        "id": "vmdn5ZDSnAJK"
      }
    },
    {
      "cell_type": "code",
      "source": [
        "plt.figure(figsize=(14,5))\n",
        "\n",
        "sns.lineplot(data=data, x='arrival_date_month', y='adr', hue='hotel',\n",
        "             hue_order= ['City Hotel', 'Resort Hotel'], palette = 'Set1')\n",
        "\n",
        "plt.title('Comportamento da variação de preço por noite Hotel x Resort')\n",
        "plt.xlabel('Mes de chegada')\n",
        "plt.ylabel('preço[EUR]')\n",
        "plt.show()"
      ],
      "metadata": {
        "colab": {
          "base_uri": "https://localhost:8080/",
          "height": 350
        },
        "id": "F-GJnbLUnLeo",
        "outputId": "579f4a45-3fd4-4926-9d34-404275bccde6"
      },
      "execution_count": null,
      "outputs": [
        {
          "output_type": "display_data",
          "data": {
            "image/png": "[encoded data removed]",
            "text/plain": [
              "<Figure size 1008x360 with 1 Axes>"
            ]
          },
          "metadata": {
            "needs_background": "light"
          }
        }
      ]
    },
    {
      "cell_type": "markdown",
      "source": [
        "\n",
        "\n",
        "> Para Resort Hotel, o preço por noite (ADR) é mais caro durante julho, agosto e setembro\n",
        "\n",
        "> Para City Hotel, o preço por noite (ADR) é um pouco mais caro durante março, abril e maio\n",
        "\n"
      ],
      "metadata": {
        "id": "7NvbF5Ndoe5d"
      }
    },
    {
      "cell_type": "markdown",
      "source": [
        "\n",
        "\n",
        "*   Os 10 principais paises com mais reservas no hotel.  \n",
        "\n"
      ],
      "metadata": {
        "id": "YS_sQ4chWYiQ"
      }
    },
    {
      "cell_type": "code",
      "source": [
        "# Verificar entendimendo de normalize\n",
        "data['country'].value_counts(normalize=True)[:10]"
      ],
      "metadata": {
        "id": "M_fSoRf_WMSC",
        "colab": {
          "base_uri": "https://localhost:8080/"
        },
        "outputId": "528f75d8-94fa-43d5-ed6d-131541ebb6c4"
      },
      "execution_count": null,
      "outputs": [
        {
          "output_type": "execute_result",
          "data": {
            "text/plain": [
              "PRT    0.408656\n",
              "GBR    0.102008\n",
              "FRA    0.087593\n",
              "ESP    0.072059\n",
              "DEU    0.061286\n",
              "ITA    0.031673\n",
              "IRL    0.028385\n",
              "BEL    0.019697\n",
              "BRA    0.018704\n",
              "NLD    0.017695\n",
              "Name: country, dtype: float64"
            ]
          },
          "metadata": {},
          "execution_count": 15
        }
      ]
    },
    {
      "cell_type": "code",
      "source": [
        "plt.figure(figsize=(8,6), dpi=110)\n",
        "\n",
        "\n",
        "# entender o funcionamento do order\n",
        "sns.countplot(data=data, x='country', order=pd.value_counts(data['country']).iloc[:10].index, \n",
        "              palette='colorblind')\n",
        "\n",
        "plt.title('Top 10 paises reservados no hotel')\n",
        "plt.xlabel('paises')\n",
        "plt.ylabel('quantidade de reservas')"
      ],
      "metadata": {
        "colab": {
          "base_uri": "https://localhost:8080/",
          "height": 624
        },
        "id": "sGgiz9NDXGsS",
        "outputId": "17e08467-42b8-45eb-a9b0-b43188ecf6c9"
      },
      "execution_count": null,
      "outputs": [
        {
          "output_type": "execute_result",
          "data": {
            "text/plain": [
              "Text(0, 0.5, 'quantidade de reservas')"
            ]
          },
          "metadata": {},
          "execution_count": 16
        },
        {
          "output_type": "display_data",
          "data": {
            "image/png": "[encoded data removed]",
            "text/plain": [
              "<Figure size 880x660 with 1 Axes>"
            ]
          },
          "metadata": {
            "needs_background": "light"
          }
        }
      ]
    },
    {
      "cell_type": "markdown",
      "source": [
        "\n",
        "\n",
        ">  No gráfico acima visualizamos os países com mais reservas. A maioria das reservas são criadas a partir de Portugal e depois em seguida Grã-Bretanha, França, Espanha.\n",
        "\n"
      ],
      "metadata": {
        "id": "ci4e9SrAZIkY"
      }
    },
    {
      "cell_type": "markdown",
      "source": [
        "\n",
        "\n",
        "* Vamos observar os meses com mais movimentação de clientes durante esses anos.\n",
        "\n"
      ],
      "metadata": {
        "id": "e0X6IWwBbYWj"
      }
    },
    {
      "cell_type": "code",
      "source": [
        "plt.figure(figsize=(14,6))\n",
        "sns.countplot(data=data , x='arrival_date_month', palette='pastel',\n",
        "              order=pd.value_counts(data['arrival_date_month']).index)\n",
        "\n",
        "plt.title('Movimentação de clientes no mes')\n",
        "plt.xlabel('Meses')\n",
        "plt.ylabel('Numero de reservas')\n",
        "plt.show()\n",
        "\n",
        "# Alterar esse grafico para linhas e verificar metodo show()"
      ],
      "metadata": {
        "id": "UNUYs3NpaKIq",
        "colab": {
          "base_uri": "https://localhost:8080/",
          "height": 404
        },
        "outputId": "51c1982f-d242-42fc-9275-35a39e5fc3ac"
      },
      "execution_count": null,
      "outputs": [
        {
          "output_type": "display_data",
          "data": {
            "image/png": "[encoded data removed]",
            "text/plain": [
              "<Figure size 1008x432 with 1 Axes>"
            ]
          },
          "metadata": {
            "needs_background": "light"
          }
        }
      ]
    },
    {
      "cell_type": "markdown",
      "source": [
        "> O gráfico acima mostra o número de reservas criadas para cada mês e de acordo com o gráfico, **agosto** é o mês mais ocupado (mais movimentado no hotel)"
      ],
      "metadata": {
        "id": "gfjiFQ1gbnLr"
      }
    },
    {
      "cell_type": "markdown",
      "source": [
        "\n",
        "\n",
        "*   Filtrando o nome e E-mail dos clientes com crianças e bebes para eventuais promoções.\n",
        "\n"
      ],
      "metadata": {
        "id": "trVtNvXNS7xn"
      }
    },
    {
      "cell_type": "code",
      "source": [
        "data['client_baby_and_children'] = data.apply(lambda x: x['children'] + x['babies'], axis=1 )\n",
        "data.sort_values(by=['client_baby_and_children'], ascending=False)[['name','email','client_baby_and_children']][:10]"
      ],
      "metadata": {
        "id": "D2P1N3kSTN4u",
        "colab": {
          "base_uri": "https://localhost:8080/",
          "height": 363
        },
        "outputId": "784682b3-f7bd-4bcf-c97a-06be750b95db"
      },
      "execution_count": null,
      "outputs": [
        {
          "output_type": "execute_result",
          "data": {
            "text/html": [
              "\n",
              "  <div id=\"df-e933da53-49bc-4ae0-a74f-2121a433bfcc\">\n",
              "    <div class=\"colab-df-container\">\n",
              "      <div>\n",
              "<style scoped>\n",
              "    .dataframe tbody tr th:only-of-type {\n",
              "        vertical-align: middle;\n",
              "    }\n",
              "\n",
              "    .dataframe tbody tr th {\n",
              "        vertical-align: top;\n",
              "    }\n",
              "\n",
              "    .dataframe thead th {\n",
              "        text-align: right;\n",
              "    }\n",
              "</style>\n",
              "<table border=\"1\" class=\"dataframe\">\n",
              "  <thead>\n",
              "    <tr style=\"text-align: right;\">\n",
              "      <th></th>\n",
              "      <th>name</th>\n",
              "      <th>email</th>\n",
              "      <th>client_baby_and_children</th>\n",
              "    </tr>\n",
              "  </thead>\n",
              "  <tbody>\n",
              "    <tr>\n",
              "      <th>328</th>\n",
              "      <td>Jamie Ramirez</td>\n",
              "      <td>Ramirez_Jamie22@aol.com</td>\n",
              "      <td>10.0</td>\n",
              "    </tr>\n",
              "    <tr>\n",
              "      <th>46619</th>\n",
              "      <td>Nicholas Parker</td>\n",
              "      <td>Parker.Nicholas57@hotmail.com</td>\n",
              "      <td>10.0</td>\n",
              "    </tr>\n",
              "    <tr>\n",
              "      <th>78656</th>\n",
              "      <td>Marc Robinson</td>\n",
              "      <td>Robinson_Marc@protonmail.com</td>\n",
              "      <td>9.0</td>\n",
              "    </tr>\n",
              "    <tr>\n",
              "      <th>19718</th>\n",
              "      <td>Mr. Jeffrey Cross</td>\n",
              "      <td>Mr..Cross@yandex.com</td>\n",
              "      <td>3.0</td>\n",
              "    </tr>\n",
              "    <tr>\n",
              "      <th>107837</th>\n",
              "      <td>Albert French</td>\n",
              "      <td>French.Albert@mail.com</td>\n",
              "      <td>3.0</td>\n",
              "    </tr>\n",
              "    <tr>\n",
              "      <th>24409</th>\n",
              "      <td>Lindsay Rodriguez</td>\n",
              "      <td>Lindsay.Rodriguez27@comcast.net</td>\n",
              "      <td>3.0</td>\n",
              "    </tr>\n",
              "    <tr>\n",
              "      <th>90790</th>\n",
              "      <td>Nathaniel Kim</td>\n",
              "      <td>Nathaniel.Kim@outlook.com</td>\n",
              "      <td>3.0</td>\n",
              "    </tr>\n",
              "    <tr>\n",
              "      <th>95227</th>\n",
              "      <td>Nancy Cole</td>\n",
              "      <td>NancyCole75@aol.com</td>\n",
              "      <td>3.0</td>\n",
              "    </tr>\n",
              "    <tr>\n",
              "      <th>106216</th>\n",
              "      <td>Krystal Trevino</td>\n",
              "      <td>Krystal.Trevino@protonmail.com</td>\n",
              "      <td>3.0</td>\n",
              "    </tr>\n",
              "    <tr>\n",
              "      <th>27246</th>\n",
              "      <td>Faith Smith</td>\n",
              "      <td>Smith_Faith60@protonmail.com</td>\n",
              "      <td>3.0</td>\n",
              "    </tr>\n",
              "  </tbody>\n",
              "</table>\n",
              "</div>\n",
              "      <button class=\"colab-df-convert\" onclick=\"convertToInteractive('df-e933da53-49bc-4ae0-a74f-2121a433bfcc')\"\n",
              "              title=\"Convert this dataframe to an interactive table.\"\n",
              "              style=\"display:none;\">\n",
              "        \n",
              "  <svg xmlns=\"http://www.w3.org/2000/svg\" height=\"24px\"viewBox=\"0 0 24 24\"\n",
              "       width=\"24px\">\n",
              "    <path d=\"M0 0h24v24H0V0z\" fill=\"none\"/>\n",
              "    <path d=\"M18.56 5.44l.94 2.06.94-2.06 2.06-.94-2.06-.94-.94-2.06-.94 2.06-2.06.94zm-11 1L8.5 8.5l.94-2.06 2.06-.94-2.06-.94L8.5 2.5l-.94 2.06-2.06.94zm10 10l.94 2.06.94-2.06 2.06-.94-2.06-.94-.94-2.06-.94 2.06-2.06.94z\"/><path d=\"M17.41 7.96l-1.37-1.37c-.4-.4-.92-.59-1.43-.59-.52 0-1.04.2-1.43.59L10.3 9.45l-7.72 7.72c-.78.78-.78 2.05 0 2.83L4 21.41c.39.39.9.59 1.41.59.51 0 1.02-.2 1.41-.59l7.78-7.78 2.81-2.81c.8-.78.8-2.07 0-2.86zM5.41 20L4 18.59l7.72-7.72 1.47 1.35L5.41 20z\"/>\n",
              "  </svg>\n",
              "      </button>\n",
              "      \n",
              "  <style>\n",
              "    .colab-df-container {\n",
              "      display:flex;\n",
              "      flex-wrap:wrap;\n",
              "      gap: 12px;\n",
              "    }\n",
              "\n",
              "    .colab-df-convert {\n",
              "      background-color: #E8F0FE;\n",
              "      border: none;\n",
              "      border-radius: 50%;\n",
              "      cursor: pointer;\n",
              "      display: none;\n",
              "      fill: #1967D2;\n",
              "      height: 32px;\n",
              "      padding: 0 0 0 0;\n",
              "      width: 32px;\n",
              "    }\n",
              "\n",
              "    .colab-df-convert:hover {\n",
              "      background-color: #E2EBFA;\n",
              "      box-shadow: 0px 1px 2px rgba(60, 64, 67, 0.3), 0px 1px 3px 1px rgba(60, 64, 67, 0.15);\n",
              "      fill: #174EA6;\n",
              "    }\n",
              "\n",
              "    [theme=dark] .colab-df-convert {\n",
              "      background-color: #3B4455;\n",
              "      fill: #D2E3FC;\n",
              "    }\n",
              "\n",
              "    [theme=dark] .colab-df-convert:hover {\n",
              "      background-color: #434B5C;\n",
              "      box-shadow: 0px 1px 3px 1px rgba(0, 0, 0, 0.15);\n",
              "      filter: drop-shadow(0px 1px 2px rgba(0, 0, 0, 0.3));\n",
              "      fill: #FFFFFF;\n",
              "    }\n",
              "  </style>\n",
              "\n",
              "      <script>\n",
              "        const buttonEl =\n",
              "          document.querySelector('#df-e933da53-49bc-4ae0-a74f-2121a433bfcc button.colab-df-convert');\n",
              "        buttonEl.style.display =\n",
              "          google.colab.kernel.accessAllowed ? 'block' : 'none';\n",
              "\n",
              "        async function convertToInteractive(key) {\n",
              "          const element = document.querySelector('#df-e933da53-49bc-4ae0-a74f-2121a433bfcc');\n",
              "          const dataTable =\n",
              "            await google.colab.kernel.invokeFunction('convertToInteractive',\n",
              "                                                     [key], {});\n",
              "          if (!dataTable) return;\n",
              "\n",
              "          const docLinkHtml = 'Like what you see? Visit the ' +\n",
              "            '<a target=\"_blank\" href=https://colab.research.google.com/notebooks/data_table.ipynb>data table notebook</a>'\n",
              "            + ' to learn more about interactive tables.';\n",
              "          element.innerHTML = '';\n",
              "          dataTable['output_type'] = 'display_data';\n",
              "          await google.colab.output.renderOutput(dataTable, element);\n",
              "          const docLink = document.createElement('div');\n",
              "          docLink.innerHTML = docLinkHtml;\n",
              "          element.appendChild(docLink);\n",
              "        }\n",
              "      </script>\n",
              "    </div>\n",
              "  </div>\n",
              "  "
            ],
            "text/plain": [
              "                     name                            email  \\\n",
              "328         Jamie Ramirez          Ramirez_Jamie22@aol.com   \n",
              "46619     Nicholas Parker    Parker.Nicholas57@hotmail.com   \n",
              "78656       Marc Robinson     Robinson_Marc@protonmail.com   \n",
              "19718   Mr. Jeffrey Cross             Mr..Cross@yandex.com   \n",
              "107837      Albert French           French.Albert@mail.com   \n",
              "24409   Lindsay Rodriguez  Lindsay.Rodriguez27@comcast.net   \n",
              "90790       Nathaniel Kim        Nathaniel.Kim@outlook.com   \n",
              "95227          Nancy Cole              NancyCole75@aol.com   \n",
              "106216    Krystal Trevino   Krystal.Trevino@protonmail.com   \n",
              "27246         Faith Smith     Smith_Faith60@protonmail.com   \n",
              "\n",
              "        client_baby_and_children  \n",
              "328                         10.0  \n",
              "46619                       10.0  \n",
              "78656                        9.0  \n",
              "19718                        3.0  \n",
              "107837                       3.0  \n",
              "24409                        3.0  \n",
              "90790                        3.0  \n",
              "95227                        3.0  \n",
              "106216                       3.0  \n",
              "27246                        3.0  "
            ]
          },
          "metadata": {},
          "execution_count": 18
        }
      ]
    },
    {
      "cell_type": "markdown",
      "source": [
        "\n",
        "\n",
        "*   Vamos se aprofundar e visualizar separadamente a quantidade de reservas canceladas no hotel e resort\n",
        "\n"
      ],
      "metadata": {
        "id": "Cfyx8DHGdgoq"
      }
    },
    {
      "cell_type": "code",
      "source": [
        "data['is_canceled'].value_counts(normalize=True)"
      ],
      "metadata": {
        "id": "K8e1VZFDb8RL",
        "colab": {
          "base_uri": "https://localhost:8080/"
        },
        "outputId": "5929e1c0-7d96-4bc4-81e6-a6659dd3e1ef"
      },
      "execution_count": null,
      "outputs": [
        {
          "output_type": "execute_result",
          "data": {
            "text/plain": [
              "0    0.629584\n",
              "1    0.370416\n",
              "Name: is_canceled, dtype: float64"
            ]
          },
          "metadata": {},
          "execution_count": 19
        }
      ]
    },
    {
      "cell_type": "code",
      "source": [
        "plt.figure(figsize=(7,5) , dpi=100)\n",
        "\n",
        "proportion = data['is_canceled'].value_counts()\n",
        "\n",
        "labels = ['Ativas','Canceladas']\n",
        "plt.title('Proporção de reservas CANCELADAS e ATIVAS')\n",
        "\n",
        "plt.pie(proportion, labels=labels, shadow = True, autopct = '%1.1f%%')\n",
        "plt.show()"
      ],
      "metadata": {
        "colab": {
          "base_uri": "https://localhost:8080/",
          "height": 436
        },
        "id": "cP8Vz0MZcFF3",
        "outputId": "cb658264-5f3d-4d76-da99-9d4646d91849"
      },
      "execution_count": null,
      "outputs": [
        {
          "output_type": "display_data",
          "data": {
            "image/png": "[encoded data removed]",
            "text/plain": [
              "<Figure size 700x500 with 1 Axes>"
            ]
          },
          "metadata": {}
        }
      ]
    },
    {
      "cell_type": "markdown",
      "source": [
        "> Para uma eventual pesquisa de satisfação, vamos recolher os dados dos clientes com cancelamento de reserva e oferecer um desconto na proxima hospedagem após um questionario.\n"
      ],
      "metadata": {
        "id": "FA8cNeHdsDqq"
      }
    },
    {
      "cell_type": "markdown",
      "source": [
        "* Qual a distribuição de cancelamento de estadia por mês?"
      ],
      "metadata": {
        "id": "BdrrNv1KVkZB"
      }
    },
    {
      "cell_type": "code",
      "source": [
        "data.query('is_canceled == 1')['arrival_date_month'].value_counts()"
      ],
      "metadata": {
        "id": "HGtYbdbtVN3_"
      },
      "execution_count": null,
      "outputs": []
    },
    {
      "cell_type": "markdown",
      "source": [
        "> Sabemos que no topico 2.4 podemos observar que os meses com taxas mais baratas são fevereiro, dezembro, novembro, janeiro e logo a taxa de cancelamento é menor durante esses meses.\n",
        "\n",
        "  OBSERVAÇÃO, CRIAR TOPICOS\n",
        "  "
      ],
      "metadata": {
        "id": "Okt0ezijV3iN"
      }
    },
    {
      "cell_type": "code",
      "source": [
        "client_canceled = data.query('is_canceled == 1')[['name', 'email', 'phone-number', 'country']]\n",
        "client_canceled.head()"
      ],
      "metadata": {
        "colab": {
          "base_uri": "https://localhost:8080/",
          "height": 206
        },
        "id": "Dwc5Dco0o1aa",
        "outputId": "1bb980c4-6fe6-42a3-bc1f-9fdae72611a3"
      },
      "execution_count": null,
      "outputs": [
        {
          "output_type": "execute_result",
          "data": {
            "text/html": [
              "\n",
              "  <div id=\"df-6efe4cd9-f683-4911-8175-01952e4fb85f\">\n",
              "    <div class=\"colab-df-container\">\n",
              "      <div>\n",
              "<style scoped>\n",
              "    .dataframe tbody tr th:only-of-type {\n",
              "        vertical-align: middle;\n",
              "    }\n",
              "\n",
              "    .dataframe tbody tr th {\n",
              "        vertical-align: top;\n",
              "    }\n",
              "\n",
              "    .dataframe thead th {\n",
              "        text-align: right;\n",
              "    }\n",
              "</style>\n",
              "<table border=\"1\" class=\"dataframe\">\n",
              "  <thead>\n",
              "    <tr style=\"text-align: right;\">\n",
              "      <th></th>\n",
              "      <th>name</th>\n",
              "      <th>email</th>\n",
              "      <th>phone-number</th>\n",
              "      <th>country</th>\n",
              "    </tr>\n",
              "  </thead>\n",
              "  <tbody>\n",
              "    <tr>\n",
              "      <th>8</th>\n",
              "      <td>Steven Murphy</td>\n",
              "      <td>Steven.Murphy54@aol.com</td>\n",
              "      <td>341-726-5787</td>\n",
              "      <td>PRT</td>\n",
              "    </tr>\n",
              "    <tr>\n",
              "      <th>9</th>\n",
              "      <td>Michael Moore</td>\n",
              "      <td>MichaelMoore81@outlook.com</td>\n",
              "      <td>316-648-6176</td>\n",
              "      <td>PRT</td>\n",
              "    </tr>\n",
              "    <tr>\n",
              "      <th>10</th>\n",
              "      <td>Priscilla Collins PhD</td>\n",
              "      <td>PhD.Priscilla74@att.com</td>\n",
              "      <td>833-887-7898</td>\n",
              "      <td>PRT</td>\n",
              "    </tr>\n",
              "    <tr>\n",
              "      <th>27</th>\n",
              "      <td>Jaime Flynn</td>\n",
              "      <td>JaimeFlynn29@gmail.com</td>\n",
              "      <td>549-866-3721</td>\n",
              "      <td>PRT</td>\n",
              "    </tr>\n",
              "    <tr>\n",
              "      <th>32</th>\n",
              "      <td>Reginald Cunningham</td>\n",
              "      <td>Reginald_C57@outlook.com</td>\n",
              "      <td>800-249-2144</td>\n",
              "      <td>PRT</td>\n",
              "    </tr>\n",
              "  </tbody>\n",
              "</table>\n",
              "</div>\n",
              "      <button class=\"colab-df-convert\" onclick=\"convertToInteractive('df-6efe4cd9-f683-4911-8175-01952e4fb85f')\"\n",
              "              title=\"Convert this dataframe to an interactive table.\"\n",
              "              style=\"display:none;\">\n",
              "        \n",
              "  <svg xmlns=\"http://www.w3.org/2000/svg\" height=\"24px\"viewBox=\"0 0 24 24\"\n",
              "       width=\"24px\">\n",
              "    <path d=\"M0 0h24v24H0V0z\" fill=\"none\"/>\n",
              "    <path d=\"M18.56 5.44l.94 2.06.94-2.06 2.06-.94-2.06-.94-.94-2.06-.94 2.06-2.06.94zm-11 1L8.5 8.5l.94-2.06 2.06-.94-2.06-.94L8.5 2.5l-.94 2.06-2.06.94zm10 10l.94 2.06.94-2.06 2.06-.94-2.06-.94-.94-2.06-.94 2.06-2.06.94z\"/><path d=\"M17.41 7.96l-1.37-1.37c-.4-.4-.92-.59-1.43-.59-.52 0-1.04.2-1.43.59L10.3 9.45l-7.72 7.72c-.78.78-.78 2.05 0 2.83L4 21.41c.39.39.9.59 1.41.59.51 0 1.02-.2 1.41-.59l7.78-7.78 2.81-2.81c.8-.78.8-2.07 0-2.86zM5.41 20L4 18.59l7.72-7.72 1.47 1.35L5.41 20z\"/>\n",
              "  </svg>\n",
              "      </button>\n",
              "      \n",
              "  <style>\n",
              "    .colab-df-container {\n",
              "      display:flex;\n",
              "      flex-wrap:wrap;\n",
              "      gap: 12px;\n",
              "    }\n",
              "\n",
              "    .colab-df-convert {\n",
              "      background-color: #E8F0FE;\n",
              "      border: none;\n",
              "      border-radius: 50%;\n",
              "      cursor: pointer;\n",
              "      display: none;\n",
              "      fill: #1967D2;\n",
              "      height: 32px;\n",
              "      padding: 0 0 0 0;\n",
              "      width: 32px;\n",
              "    }\n",
              "\n",
              "    .colab-df-convert:hover {\n",
              "      background-color: #E2EBFA;\n",
              "      box-shadow: 0px 1px 2px rgba(60, 64, 67, 0.3), 0px 1px 3px 1px rgba(60, 64, 67, 0.15);\n",
              "      fill: #174EA6;\n",
              "    }\n",
              "\n",
              "    [theme=dark] .colab-df-convert {\n",
              "      background-color: #3B4455;\n",
              "      fill: #D2E3FC;\n",
              "    }\n",
              "\n",
              "    [theme=dark] .colab-df-convert:hover {\n",
              "      background-color: #434B5C;\n",
              "      box-shadow: 0px 1px 3px 1px rgba(0, 0, 0, 0.15);\n",
              "      filter: drop-shadow(0px 1px 2px rgba(0, 0, 0, 0.3));\n",
              "      fill: #FFFFFF;\n",
              "    }\n",
              "  </style>\n",
              "\n",
              "      <script>\n",
              "        const buttonEl =\n",
              "          document.querySelector('#df-6efe4cd9-f683-4911-8175-01952e4fb85f button.colab-df-convert');\n",
              "        buttonEl.style.display =\n",
              "          google.colab.kernel.accessAllowed ? 'block' : 'none';\n",
              "\n",
              "        async function convertToInteractive(key) {\n",
              "          const element = document.querySelector('#df-6efe4cd9-f683-4911-8175-01952e4fb85f');\n",
              "          const dataTable =\n",
              "            await google.colab.kernel.invokeFunction('convertToInteractive',\n",
              "                                                     [key], {});\n",
              "          if (!dataTable) return;\n",
              "\n",
              "          const docLinkHtml = 'Like what you see? Visit the ' +\n",
              "            '<a target=\"_blank\" href=https://colab.research.google.com/notebooks/data_table.ipynb>data table notebook</a>'\n",
              "            + ' to learn more about interactive tables.';\n",
              "          element.innerHTML = '';\n",
              "          dataTable['output_type'] = 'display_data';\n",
              "          await google.colab.output.renderOutput(dataTable, element);\n",
              "          const docLink = document.createElement('div');\n",
              "          docLink.innerHTML = docLinkHtml;\n",
              "          element.appendChild(docLink);\n",
              "        }\n",
              "      </script>\n",
              "    </div>\n",
              "  </div>\n",
              "  "
            ],
            "text/plain": [
              "                     name                       email  phone-number country\n",
              "8           Steven Murphy     Steven.Murphy54@aol.com  341-726-5787     PRT\n",
              "9           Michael Moore  MichaelMoore81@outlook.com  316-648-6176     PRT\n",
              "10  Priscilla Collins PhD     PhD.Priscilla74@att.com  833-887-7898     PRT\n",
              "27            Jaime Flynn      JaimeFlynn29@gmail.com  549-866-3721     PRT\n",
              "32    Reginald Cunningham    Reginald_C57@outlook.com  800-249-2144     PRT"
            ]
          },
          "metadata": {},
          "execution_count": 21
        }
      ]
    },
    {
      "cell_type": "code",
      "source": [
        "plt.figure(figsize= (7,6))\n",
        "sns.countplot(data=data, x='is_canceled', hue='hotel', palette='Set1')\n",
        "\n",
        "plt.title('quantidade de reservas canceladas no hotel e resort')\n",
        "plt.xlabel('status de cancelamento')\n",
        "plt.ylabel('quantidade de reservas')"
      ],
      "metadata": {
        "colab": {
          "base_uri": "https://localhost:8080/",
          "height": 422
        },
        "id": "7WZdRi1bdwD0",
        "outputId": "d620ec85-74ff-4581-f4a4-fba77ddea7fd"
      },
      "execution_count": null,
      "outputs": [
        {
          "output_type": "execute_result",
          "data": {
            "text/plain": [
              "Text(0, 0.5, 'quantidade de reservas')"
            ]
          },
          "metadata": {},
          "execution_count": 22
        },
        {
          "output_type": "display_data",
          "data": {
            "image/png": "[encoded data removed]",
            "text/plain": [
              "<Figure size 504x432 with 1 Axes>"
            ]
          },
          "metadata": {
            "needs_background": "light"
          }
        }
      ]
    }
  ]
}