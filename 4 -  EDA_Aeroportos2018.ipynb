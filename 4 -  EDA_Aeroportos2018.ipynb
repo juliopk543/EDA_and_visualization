{
  "nbformat": 4,
  "nbformat_minor": 0,
  "metadata": {
    "colab": {
      "provenance": [],
      "collapsed_sections": [
        "xsCjtOvH6Xu8",
        "LP3Qr6877ojt",
        "MTf56l-fgwcW",
        "WFsvCWQcjSBe",
        "efy39hEM8qjd",
        "QBXPgVef87St",
        "L7ZF1QYX9DZs",
        "I4poEFMJOCy-",
        "EQ0ZJpc6W5kK"
      ]
    },
    "kernelspec": {
      "name": "python3",
      "display_name": "Python 3"
    },
    "language_info": {
      "name": "python"
    }
  },
  "cells": [
    {
      "cell_type": "markdown",
      "source": [
        "# Fluxo de passageiros nos Aeroportos em 2018\n",
        "\n"
      ],
      "metadata": {
        "id": "9MwS0yRUlVcF"
      }
    },
    {
      "cell_type": "markdown",
      "source": [
        "Aqui está o processo de Extração, Tratamento e Limpeza mais conhecido como (ETL)... O resultado e objetivo desse processo pode ser visualizando acessando o [link](http://juliocesar-data-analyst.herokuapp.com/) do meu blog onde está armazenado a img do dashboarding que representa as informações extraidas a seguir."
      ],
      "metadata": {
        "id": "jHH-A-pn5Y8F"
      }
    },
    {
      "cell_type": "markdown",
      "source": [
        "## Iniciando o processo de extração"
      ],
      "metadata": {
        "id": "xsCjtOvH6Xu8"
      }
    },
    {
      "cell_type": "markdown",
      "source": [
        "* Bibliotecas"
      ],
      "metadata": {
        "id": "mxx0qA1z6h0M"
      }
    },
    {
      "cell_type": "markdown",
      "source": [
        "Link para download do [Dataset](https://www.kaggle.com/datasets/yuanyuwendymu/airline-delay-and-cancellation-data-2009-2018)"
      ],
      "metadata": {
        "id": "WzszCgm47O1F"
      }
    },
    {
      "cell_type": "code",
      "execution_count": null,
      "metadata": {
        "id": "RO2TwWwEUaxI"
      },
      "outputs": [],
      "source": [
        "import pandas as pd\n",
        "import numpy as np\n",
        "import seaborn as sn\n",
        "import matplotlib.pyplot as plt\n",
        "import datetime as dt"
      ]
    },
    {
      "cell_type": "code",
      "source": [
        "pd.set_option('display.max_columns', None) # Configurando a quantidade de colunas visiveis na função head()\n",
        "df = pd.read_csv('/content/drive/MyDrive/aeroporto/2018.csv', sep=',', encoding='utf-8') # O dataset está armazenado no meu Drive, onde fiz o donwload no kaggle."
      ],
      "metadata": {
        "id": "qEhHuFDrUuOR"
      },
      "execution_count": null,
      "outputs": []
    },
    {
      "cell_type": "markdown",
      "source": [
        "## Iniciando o processo de Limpeza e Transformação"
      ],
      "metadata": {
        "id": "LP3Qr6877ojt"
      }
    },
    {
      "cell_type": "markdown",
      "source": [
        "* Agencias"
      ],
      "metadata": {
        "id": "Z8dh9kvH8D6d"
      }
    },
    {
      "cell_type": "code",
      "source": [
        "# Renomeando siglas das agencias \n",
        "# df.columns\n",
        "df.replace({'UA':'United Airlines, Inc.', 'AS': 'Alaska Airlines', '9E': 'Endeavor Air', 'B6': 'Jetblue Airways Corporation', \n",
        "            'EV': ' ExpressJet Airlines', 'F9': 'Frontier Airlines, Inc.', 'G4': 'Allegiant Air LLC', 'HA': 'Hawaiian Airlines Inc', \n",
        "            'MQ': 'Envoy Air', 'NK': 'Spirit Airlines, Inc', 'OH': 'Jetstream Intl','OO': 'Skywest Airlines', 'VX': 'Virgin America', \n",
        "            'WN': 'Southwest Airlines', 'YV': 'Mesa Airlines, Inc.', 'YX': 'Republic Airlines', 'AA': 'American Airlines', 'DL': 'Delta Air Lines, Inc'}, inplace=True)"
      ],
      "metadata": {
        "id": "OJCrDCS3WSKC"
      },
      "execution_count": null,
      "outputs": []
    },
    {
      "cell_type": "markdown",
      "source": [
        "###  Convertendo decolagem e aterrisagem para horas [WHEELS_OFF] - [WHEELS_ON]"
      ],
      "metadata": {
        "id": "MTf56l-fgwcW"
      }
    },
    {
      "cell_type": "markdown",
      "source": [
        "*   [WHEELS_OFF]"
      ],
      "metadata": {
        "id": "zz2x8vv77_RV"
      }
    },
    {
      "cell_type": "code",
      "source": [
        "df.dropna(subset=['WHEELS_OFF'], inplace=True)\n",
        "df['WHEELS_OFF'] = df['WHEELS_OFF'].apply(np.int64)\n",
        "df['WHEELS_OFF'] = pd.to_datetime(df['WHEELS_OFF'], format='%H%M', errors='coerce')"
      ],
      "metadata": {
        "id": "4WR__4H6GoNT"
      },
      "execution_count": null,
      "outputs": []
    },
    {
      "cell_type": "markdown",
      "source": [
        "* [WHEELS_ON]"
      ],
      "metadata": {
        "id": "WJYYW0kVilDG"
      }
    },
    {
      "cell_type": "code",
      "source": [
        "df.dropna(subset=['WHEELS_ON'], inplace=True)\n",
        "df['WHEELS_ON'] = df['WHEELS_ON'].apply(np.int64)\n",
        "df['WHEELS_ON'] = pd.to_datetime(df['WHEELS_ON'], format='%H%M', errors='coerce')"
      ],
      "metadata": {
        "id": "d5OdiwNvGpsa"
      },
      "execution_count": null,
      "outputs": []
    },
    {
      "cell_type": "markdown",
      "source": [
        "### Visualizando o Tempo de viagem"
      ],
      "metadata": {
        "id": "WFsvCWQcjSBe"
      }
    },
    {
      "cell_type": "code",
      "source": [
        "df['TempoDeViagem'] = (df['WHEELS_ON'] - df['WHEELS_OFF'])"
      ],
      "metadata": {
        "id": "zDrSeAOYZwQf"
      },
      "execution_count": null,
      "outputs": []
    },
    {
      "cell_type": "code",
      "source": [
        "df['TempoDeViagem']"
      ],
      "metadata": {
        "colab": {
          "base_uri": "https://localhost:8080/"
        },
        "id": "28hki__kBv4_",
        "outputId": "c75be987-9044-4360-b012-b667af8a92f5"
      },
      "execution_count": null,
      "outputs": [
        {
          "output_type": "execute_result",
          "data": {
            "text/plain": [
              "0         0 days 01:45:00\n",
              "1         0 days 01:05:00\n",
              "2         0 days 02:46:00\n",
              "3         0 days 01:37:00\n",
              "4         0 days 02:23:00\n",
              "                ...      \n",
              "7213441   0 days 01:12:00\n",
              "7213442   0 days 01:28:00\n",
              "7213443   0 days 00:28:00\n",
              "7213444   0 days 00:26:00\n",
              "7213445   0 days 00:44:00\n",
              "Name: TempoDeViagem, Length: 7094200, dtype: timedelta64[ns]"
            ]
          },
          "metadata": {},
          "execution_count": 8
        }
      ]
    },
    {
      "cell_type": "code",
      "source": [
        "# [DOCUMENTAÇÃO] - https://bitcoden.com/answers/pandas-extract-hour-from-timedelta\n",
        "\n",
        "# [TimeDeltaProperties] - df[['WHEELS_OFF', 'WHEELS_ON', 'handling_time_hours']].info()\n",
        "df['Horas'] = df['TempoDeViagem'].dt.components['hours']\n",
        "df['Minutos'] = df['TempoDeViagem'].dt.components['minutes']"
      ],
      "metadata": {
        "id": "rPpjf5QRywdU"
      },
      "execution_count": null,
      "outputs": []
    },
    {
      "cell_type": "code",
      "source": [
        "media_tempodeviagem = df['TempoDeViagem'].mean()"
      ],
      "metadata": {
        "id": "K5lkufruMYBA"
      },
      "execution_count": null,
      "outputs": []
    },
    {
      "cell_type": "code",
      "source": [
        "# CONCATE VALUES \n",
        "df.dropna(subset=['Horas', 'Minutos'], inplace=True)\n",
        "df['Horas'] = df['Horas'].apply(np.int64).astype(\"string\")\n",
        "df['Minutos'] = df['Minutos'].apply(np.int64).astype(\"string\")\n",
        "df['TempoDeViagem'] = df['Horas'] + ':' + df['Minutos']\n",
        "\n",
        "# FORMATE HORAS\n",
        "df['WHEELS_OFF'] = df['WHEELS_OFF'].dt.strftime('%H:%M')\n",
        "df['WHEELS_ON'] = df['WHEELS_ON'].dt.strftime('%H:%M')"
      ],
      "metadata": {
        "id": "8OSl8IdhsX-s"
      },
      "execution_count": null,
      "outputs": []
    },
    {
      "cell_type": "code",
      "source": [
        "df[['WHEELS_OFF', 'WHEELS_ON', 'TempoDeViagem']]"
      ],
      "metadata": {
        "id": "QNQxcB3zs3st",
        "colab": {
          "base_uri": "https://localhost:8080/",
          "height": 424
        },
        "outputId": "04b54a0d-7253-4aa3-c89f-126ae30423cd"
      },
      "execution_count": null,
      "outputs": [
        {
          "output_type": "execute_result",
          "data": {
            "text/plain": [
              "        WHEELS_OFF WHEELS_ON TempoDeViagem\n",
              "0            15:27     17:12          1:45\n",
              "1            11:18     12:23           1:5\n",
              "2            13:45     16:31          2:46\n",
              "3            16:11     17:48          1:37\n",
              "4            07:03     09:26          2:23\n",
              "...            ...       ...           ...\n",
              "7213441      15:50     17:02          1:12\n",
              "7213442      18:15     19:43          1:28\n",
              "7213443      20:46     21:14          0:28\n",
              "7213444      13:34     14:00          0:26\n",
              "7213445      14:51     15:35          0:44\n",
              "\n",
              "[7053130 rows x 3 columns]"
            ],
            "text/html": [
              "\n",
              "  <div id=\"df-168c9e1f-7551-421a-88c9-97cda6f2e403\">\n",
              "    <div class=\"colab-df-container\">\n",
              "      <div>\n",
              "<style scoped>\n",
              "    .dataframe tbody tr th:only-of-type {\n",
              "        vertical-align: middle;\n",
              "    }\n",
              "\n",
              "    .dataframe tbody tr th {\n",
              "        vertical-align: top;\n",
              "    }\n",
              "\n",
              "    .dataframe thead th {\n",
              "        text-align: right;\n",
              "    }\n",
              "</style>\n",
              "<table border=\"1\" class=\"dataframe\">\n",
              "  <thead>\n",
              "    <tr style=\"text-align: right;\">\n",
              "      <th></th>\n",
              "      <th>WHEELS_OFF</th>\n",
              "      <th>WHEELS_ON</th>\n",
              "      <th>TempoDeViagem</th>\n",
              "    </tr>\n",
              "  </thead>\n",
              "  <tbody>\n",
              "    <tr>\n",
              "      <th>0</th>\n",
              "      <td>15:27</td>\n",
              "      <td>17:12</td>\n",
              "      <td>1:45</td>\n",
              "    </tr>\n",
              "    <tr>\n",
              "      <th>1</th>\n",
              "      <td>11:18</td>\n",
              "      <td>12:23</td>\n",
              "      <td>1:5</td>\n",
              "    </tr>\n",
              "    <tr>\n",
              "      <th>2</th>\n",
              "      <td>13:45</td>\n",
              "      <td>16:31</td>\n",
              "      <td>2:46</td>\n",
              "    </tr>\n",
              "    <tr>\n",
              "      <th>3</th>\n",
              "      <td>16:11</td>\n",
              "      <td>17:48</td>\n",
              "      <td>1:37</td>\n",
              "    </tr>\n",
              "    <tr>\n",
              "      <th>4</th>\n",
              "      <td>07:03</td>\n",
              "      <td>09:26</td>\n",
              "      <td>2:23</td>\n",
              "    </tr>\n",
              "    <tr>\n",
              "      <th>...</th>\n",
              "      <td>...</td>\n",
              "      <td>...</td>\n",
              "      <td>...</td>\n",
              "    </tr>\n",
              "    <tr>\n",
              "      <th>7213441</th>\n",
              "      <td>15:50</td>\n",
              "      <td>17:02</td>\n",
              "      <td>1:12</td>\n",
              "    </tr>\n",
              "    <tr>\n",
              "      <th>7213442</th>\n",
              "      <td>18:15</td>\n",
              "      <td>19:43</td>\n",
              "      <td>1:28</td>\n",
              "    </tr>\n",
              "    <tr>\n",
              "      <th>7213443</th>\n",
              "      <td>20:46</td>\n",
              "      <td>21:14</td>\n",
              "      <td>0:28</td>\n",
              "    </tr>\n",
              "    <tr>\n",
              "      <th>7213444</th>\n",
              "      <td>13:34</td>\n",
              "      <td>14:00</td>\n",
              "      <td>0:26</td>\n",
              "    </tr>\n",
              "    <tr>\n",
              "      <th>7213445</th>\n",
              "      <td>14:51</td>\n",
              "      <td>15:35</td>\n",
              "      <td>0:44</td>\n",
              "    </tr>\n",
              "  </tbody>\n",
              "</table>\n",
              "<p>7053130 rows × 3 columns</p>\n",
              "</div>\n",
              "      <button class=\"colab-df-convert\" onclick=\"convertToInteractive('df-168c9e1f-7551-421a-88c9-97cda6f2e403')\"\n",
              "              title=\"Convert this dataframe to an interactive table.\"\n",
              "              style=\"display:none;\">\n",
              "        \n",
              "  <svg xmlns=\"http://www.w3.org/2000/svg\" height=\"24px\"viewBox=\"0 0 24 24\"\n",
              "       width=\"24px\">\n",
              "    <path d=\"M0 0h24v24H0V0z\" fill=\"none\"/>\n",
              "    <path d=\"M18.56 5.44l.94 2.06.94-2.06 2.06-.94-2.06-.94-.94-2.06-.94 2.06-2.06.94zm-11 1L8.5 8.5l.94-2.06 2.06-.94-2.06-.94L8.5 2.5l-.94 2.06-2.06.94zm10 10l.94 2.06.94-2.06 2.06-.94-2.06-.94-.94-2.06-.94 2.06-2.06.94z\"/><path d=\"M17.41 7.96l-1.37-1.37c-.4-.4-.92-.59-1.43-.59-.52 0-1.04.2-1.43.59L10.3 9.45l-7.72 7.72c-.78.78-.78 2.05 0 2.83L4 21.41c.39.39.9.59 1.41.59.51 0 1.02-.2 1.41-.59l7.78-7.78 2.81-2.81c.8-.78.8-2.07 0-2.86zM5.41 20L4 18.59l7.72-7.72 1.47 1.35L5.41 20z\"/>\n",
              "  </svg>\n",
              "      </button>\n",
              "      \n",
              "  <style>\n",
              "    .colab-df-container {\n",
              "      display:flex;\n",
              "      flex-wrap:wrap;\n",
              "      gap: 12px;\n",
              "    }\n",
              "\n",
              "    .colab-df-convert {\n",
              "      background-color: #E8F0FE;\n",
              "      border: none;\n",
              "      border-radius: 50%;\n",
              "      cursor: pointer;\n",
              "      display: none;\n",
              "      fill: #1967D2;\n",
              "      height: 32px;\n",
              "      padding: 0 0 0 0;\n",
              "      width: 32px;\n",
              "    }\n",
              "\n",
              "    .colab-df-convert:hover {\n",
              "      background-color: #E2EBFA;\n",
              "      box-shadow: 0px 1px 2px rgba(60, 64, 67, 0.3), 0px 1px 3px 1px rgba(60, 64, 67, 0.15);\n",
              "      fill: #174EA6;\n",
              "    }\n",
              "\n",
              "    [theme=dark] .colab-df-convert {\n",
              "      background-color: #3B4455;\n",
              "      fill: #D2E3FC;\n",
              "    }\n",
              "\n",
              "    [theme=dark] .colab-df-convert:hover {\n",
              "      background-color: #434B5C;\n",
              "      box-shadow: 0px 1px 3px 1px rgba(0, 0, 0, 0.15);\n",
              "      filter: drop-shadow(0px 1px 2px rgba(0, 0, 0, 0.3));\n",
              "      fill: #FFFFFF;\n",
              "    }\n",
              "  </style>\n",
              "\n",
              "      <script>\n",
              "        const buttonEl =\n",
              "          document.querySelector('#df-168c9e1f-7551-421a-88c9-97cda6f2e403 button.colab-df-convert');\n",
              "        buttonEl.style.display =\n",
              "          google.colab.kernel.accessAllowed ? 'block' : 'none';\n",
              "\n",
              "        async function convertToInteractive(key) {\n",
              "          const element = document.querySelector('#df-168c9e1f-7551-421a-88c9-97cda6f2e403');\n",
              "          const dataTable =\n",
              "            await google.colab.kernel.invokeFunction('convertToInteractive',\n",
              "                                                     [key], {});\n",
              "          if (!dataTable) return;\n",
              "\n",
              "          const docLinkHtml = 'Like what you see? Visit the ' +\n",
              "            '<a target=\"_blank\" href=https://colab.research.google.com/notebooks/data_table.ipynb>data table notebook</a>'\n",
              "            + ' to learn more about interactive tables.';\n",
              "          element.innerHTML = '';\n",
              "          dataTable['output_type'] = 'display_data';\n",
              "          await google.colab.output.renderOutput(dataTable, element);\n",
              "          const docLink = document.createElement('div');\n",
              "          docLink.innerHTML = docLinkHtml;\n",
              "          element.appendChild(docLink);\n",
              "        }\n",
              "      </script>\n",
              "    </div>\n",
              "  </div>\n",
              "  "
            ]
          },
          "metadata": {},
          "execution_count": 12
        }
      ]
    },
    {
      "cell_type": "markdown",
      "source": [
        "### Separando as Médias de Eficiência por Aeroportos"
      ],
      "metadata": {
        "id": "mscLo6xL8Uyt"
      }
    },
    {
      "cell_type": "markdown",
      "source": [
        "#### Filtrando melhores aeroportos por eficiencia."
      ],
      "metadata": {
        "id": "efy39hEM8qjd"
      }
    },
    {
      "cell_type": "markdown",
      "source": [
        "* Calculando media de eficiencia [DESEMBARQUE]\n"
      ],
      "metadata": {
        "id": "pgCLOaY4W6tf"
      }
    },
    {
      "cell_type": "code",
      "source": [
        "media_desembarque = df.groupby(['DEST'])['ARR_DELAY'].mean()\n",
        "quartile25 = np.percentile(media_desembarque, 25)\n",
        "sn.distplot(media_desembarque);"
      ],
      "metadata": {
        "colab": {
          "base_uri": "https://localhost:8080/",
          "height": 352
        },
        "id": "1viXWCSpToR3",
        "outputId": "d9b7ae21-37af-4942-8ff8-723244d921f4"
      },
      "execution_count": null,
      "outputs": [
        {
          "output_type": "stream",
          "name": "stderr",
          "text": [
            "/usr/local/lib/python3.7/dist-packages/seaborn/distributions.py:2619: FutureWarning: `distplot` is a deprecated function and will be removed in a future version. Please adapt your code to use either `displot` (a figure-level function with similar flexibility) or `histplot` (an axes-level function for histograms).\n",
            "  warnings.warn(msg, FutureWarning)\n"
          ]
        },
        {
          "output_type": "execute_result",
          "data": {
            "text/plain": [
              "<matplotlib.axes._subplots.AxesSubplot at 0x7fc47371bb50>"
            ]
          },
          "metadata": {},
          "execution_count": 13
        },
        {
          "output_type": "display_data",
          "data": {
            "text/plain": [
              "<Figure size 432x288 with 1 Axes>"
            ],
            "image/png": "[encoded data removed]"
          },
          "metadata": {
            "needs_background": "light"
          }
        }
      ]
    },
    {
      "cell_type": "code",
      "source": [
        "MelhorDesembarque = pd.DataFrame(media_desembarque).reset_index()\n",
        "MelhorDesembarque = MelhorDesembarque[MelhorDesembarque['ARR_DELAY'] < quartile25]\n",
        "#MelhorDesembarque.head()"
      ],
      "metadata": {
        "id": "WYoCvRY-VDWf"
      },
      "execution_count": null,
      "outputs": []
    },
    {
      "cell_type": "markdown",
      "source": [
        "* Calculando media de eficiencia [EMBARQUE]"
      ],
      "metadata": {
        "id": "CQaYCb2BZfjv"
      }
    },
    {
      "cell_type": "code",
      "source": [
        "media_embarque = df.groupby(['ORIGIN'])['DEP_DELAY'].mean()\n",
        "quartile25 = np.percentile(media_embarque, 25)\n",
        "sn.distplot(media_embarque);"
      ],
      "metadata": {
        "colab": {
          "base_uri": "https://localhost:8080/",
          "height": 352
        },
        "id": "KWylsYKZXsUg",
        "outputId": "5ebc243a-9a55-4252-fae0-b2247dbd22d3"
      },
      "execution_count": null,
      "outputs": [
        {
          "output_type": "stream",
          "name": "stderr",
          "text": [
            "/usr/local/lib/python3.7/dist-packages/seaborn/distributions.py:2619: FutureWarning: `distplot` is a deprecated function and will be removed in a future version. Please adapt your code to use either `displot` (a figure-level function with similar flexibility) or `histplot` (an axes-level function for histograms).\n",
            "  warnings.warn(msg, FutureWarning)\n"
          ]
        },
        {
          "output_type": "execute_result",
          "data": {
            "text/plain": [
              "<matplotlib.axes._subplots.AxesSubplot at 0x7fc4735e8710>"
            ]
          },
          "metadata": {},
          "execution_count": 15
        },
        {
          "output_type": "display_data",
          "data": {
            "text/plain": [
              "<Figure size 432x288 with 1 Axes>"
            ],
            "image/png": "[encoded data removed]"
          },
          "metadata": {
            "needs_background": "light"
          }
        }
      ]
    },
    {
      "cell_type": "code",
      "source": [
        "MelhorEmbarque = pd.DataFrame(media_embarque).reset_index()\n",
        "MelhorEmbarque = MelhorEmbarque[MelhorEmbarque['DEP_DELAY'] < quartile25]\n",
        "#MelhorEmbarque.head()"
      ],
      "metadata": {
        "id": "KocIOJcAYTc4"
      },
      "execution_count": null,
      "outputs": []
    },
    {
      "cell_type": "markdown",
      "source": [
        "* Filtrando melhores aeroportos por eficiencia."
      ],
      "metadata": {
        "id": "dO89HETGZjNG"
      }
    },
    {
      "cell_type": "code",
      "source": [
        "sn.distplot(MelhorEmbarque['DEP_DELAY']), sn.distplot(MelhorDesembarque['ARR_DELAY']);"
      ],
      "metadata": {
        "colab": {
          "base_uri": "https://localhost:8080/",
          "height": 404
        },
        "id": "7wfUJ_K-Yjt3",
        "outputId": "f3f703ac-31e2-431b-fe84-8db6b91d79ed"
      },
      "execution_count": null,
      "outputs": [
        {
          "output_type": "stream",
          "name": "stderr",
          "text": [
            "/usr/local/lib/python3.7/dist-packages/seaborn/distributions.py:2619: FutureWarning: `distplot` is a deprecated function and will be removed in a future version. Please adapt your code to use either `displot` (a figure-level function with similar flexibility) or `histplot` (an axes-level function for histograms).\n",
            "  warnings.warn(msg, FutureWarning)\n",
            "/usr/local/lib/python3.7/dist-packages/seaborn/distributions.py:2619: FutureWarning: `distplot` is a deprecated function and will be removed in a future version. Please adapt your code to use either `displot` (a figure-level function with similar flexibility) or `histplot` (an axes-level function for histograms).\n",
            "  warnings.warn(msg, FutureWarning)\n"
          ]
        },
        {
          "output_type": "execute_result",
          "data": {
            "text/plain": [
              "(<matplotlib.axes._subplots.AxesSubplot at 0x7fc4735e6910>,\n",
              " <matplotlib.axes._subplots.AxesSubplot at 0x7fc4735e6910>)"
            ]
          },
          "metadata": {},
          "execution_count": 17
        },
        {
          "output_type": "display_data",
          "data": {
            "text/plain": [
              "<Figure size 432x288 with 1 Axes>"
            ],
            "image/png": "[encoded data removed]"
          },
          "metadata": {
            "needs_background": "light"
          }
        }
      ]
    },
    {
      "cell_type": "code",
      "source": [
        "# CONCATENANDO RESULTADOS\n",
        "MelhorEficiencia = pd.merge(MelhorEmbarque, MelhorDesembarque, left_index=True, right_index=True)\n",
        "MelhorEficiencia['total'] = MelhorEficiencia['DEP_DELAY'] + MelhorEficiencia['ARR_DELAY']\n",
        "\n",
        "# FILTRANDO OS 25% COM A MEDIA MAIS EFICIENTE\n",
        "media_eficiencia = MelhorEficiencia['total']\n",
        "quartile25 = np.percentile(media_eficiencia, 25)\n",
        "MelhorEficiencia = MelhorEficiencia[MelhorEficiencia['total'] < quartile25]\n",
        "\n",
        "# SELECIONANDO OS 10 MELHORES\n",
        "Top10MelhorEficiencia = MelhorEficiencia.sort_values(by='total', ascending=True).reset_index(drop=True)[:11]\n",
        "Top10MelhorEficiencia = Top10MelhorEficiencia.rename(columns={\"ORIGIN\": \"AEROPORTO\", \"DEP_DELAY\": \"EMBARQUE\", \"ARR_DELAY\": \"DESEMBARQUE\" , \"total\": \"EFICIENCIA\"})"
      ],
      "metadata": {
        "id": "nUo3e4RaZuV_"
      },
      "execution_count": null,
      "outputs": []
    },
    {
      "cell_type": "code",
      "source": [
        "Top10MelhorEficiencia = Top10MelhorEficiencia[['AEROPORTO', 'EMBARQUE', 'DESEMBARQUE', 'EFICIENCIA']]"
      ],
      "metadata": {
        "id": "A8l5NLChfB5N"
      },
      "execution_count": null,
      "outputs": []
    },
    {
      "cell_type": "markdown",
      "source": [
        "#### Filtrando Piores aeroportos por eficiencia."
      ],
      "metadata": {
        "id": "QBXPgVef87St"
      }
    },
    {
      "cell_type": "markdown",
      "source": [
        "* Extraindo a pior media de tempo dá Eficiencia no [EMBARQUE]"
      ],
      "metadata": {
        "id": "MhJdFBTzR0fk"
      }
    },
    {
      "cell_type": "code",
      "source": [
        "media_pior_embarque = df.groupby(['ORIGIN'])['DEP_DELAY'].mean()\n",
        "quartile75 = np.percentile(media_pior_embarque, 75)\n",
        "sn.distplot(media_pior_embarque)"
      ],
      "metadata": {
        "id": "o9cK7k_6R-Fb",
        "colab": {
          "base_uri": "https://localhost:8080/",
          "height": 352
        },
        "outputId": "cd5151c4-115e-45a5-b013-897796e56585"
      },
      "execution_count": null,
      "outputs": [
        {
          "output_type": "stream",
          "name": "stderr",
          "text": [
            "/usr/local/lib/python3.7/dist-packages/seaborn/distributions.py:2619: FutureWarning: `distplot` is a deprecated function and will be removed in a future version. Please adapt your code to use either `displot` (a figure-level function with similar flexibility) or `histplot` (an axes-level function for histograms).\n",
            "  warnings.warn(msg, FutureWarning)\n"
          ]
        },
        {
          "output_type": "execute_result",
          "data": {
            "text/plain": [
              "<matplotlib.axes._subplots.AxesSubplot at 0x7fc473010d10>"
            ]
          },
          "metadata": {},
          "execution_count": 20
        },
        {
          "output_type": "display_data",
          "data": {
            "text/plain": [
              "<Figure size 432x288 with 1 Axes>"
            ],
            "image/png": "[encoded data removed]"
          },
          "metadata": {
            "needs_background": "light"
          }
        }
      ]
    },
    {
      "cell_type": "code",
      "source": [
        "PiorEmbarque = pd.DataFrame(media_pior_embarque).reset_index()\n",
        "PiorEmbarque = PiorEmbarque[PiorEmbarque['DEP_DELAY'] > quartile75]"
      ],
      "metadata": {
        "id": "XhP5ioS1Sp1b"
      },
      "execution_count": null,
      "outputs": []
    },
    {
      "cell_type": "markdown",
      "source": [
        "* Extraindo a pior media de tempo dá Eficiencia no [DESEMBARQUE]"
      ],
      "metadata": {
        "id": "sJa1IbndTURz"
      }
    },
    {
      "cell_type": "code",
      "source": [
        "media_pior_desembarque = df.groupby(['DEST'])['ARR_DELAY'].mean()\n",
        "quartile75 = np.percentile(media_pior_desembarque, 75)\n",
        "sn.distplot(media_pior_desembarque)"
      ],
      "metadata": {
        "id": "7FZeamTiTYBN",
        "colab": {
          "base_uri": "https://localhost:8080/",
          "height": 352
        },
        "outputId": "ab5c1b66-6959-46a9-a58e-1d42f25f54ad"
      },
      "execution_count": null,
      "outputs": [
        {
          "output_type": "stream",
          "name": "stderr",
          "text": [
            "/usr/local/lib/python3.7/dist-packages/seaborn/distributions.py:2619: FutureWarning: `distplot` is a deprecated function and will be removed in a future version. Please adapt your code to use either `displot` (a figure-level function with similar flexibility) or `histplot` (an axes-level function for histograms).\n",
            "  warnings.warn(msg, FutureWarning)\n"
          ]
        },
        {
          "output_type": "execute_result",
          "data": {
            "text/plain": [
              "<matplotlib.axes._subplots.AxesSubplot at 0x7fc472ecfcd0>"
            ]
          },
          "metadata": {},
          "execution_count": 22
        },
        {
          "output_type": "display_data",
          "data": {
            "text/plain": [
              "<Figure size 432x288 with 1 Axes>"
            ],
            "image/png": "[encoded data removed]"
          },
          "metadata": {
            "needs_background": "light"
          }
        }
      ]
    },
    {
      "cell_type": "code",
      "source": [
        "PiorDesembarque = pd.DataFrame(media_pior_desembarque).reset_index()\n",
        "PiorDesembarque = PiorDesembarque[PiorDesembarque['ARR_DELAY'] > quartile75]"
      ],
      "metadata": {
        "id": "7YrkD-LDTaVu"
      },
      "execution_count": null,
      "outputs": []
    },
    {
      "cell_type": "markdown",
      "source": [
        "* Filtrando piores aeroportos por eficiencia."
      ],
      "metadata": {
        "id": "GhBwrTz_UUgK"
      }
    },
    {
      "cell_type": "code",
      "source": [
        "sn.distplot(PiorEmbarque['DEP_DELAY']), sn.distplot(PiorDesembarque['ARR_DELAY'])"
      ],
      "metadata": {
        "colab": {
          "base_uri": "https://localhost:8080/",
          "height": 407
        },
        "id": "SJ2If4pIUUOd",
        "outputId": "ec09181a-ba74-4535-d248-6e4d1a86aaf2"
      },
      "execution_count": null,
      "outputs": [
        {
          "output_type": "stream",
          "name": "stderr",
          "text": [
            "/usr/local/lib/python3.7/dist-packages/seaborn/distributions.py:2619: FutureWarning: `distplot` is a deprecated function and will be removed in a future version. Please adapt your code to use either `displot` (a figure-level function with similar flexibility) or `histplot` (an axes-level function for histograms).\n",
            "  warnings.warn(msg, FutureWarning)\n",
            "/usr/local/lib/python3.7/dist-packages/seaborn/distributions.py:2619: FutureWarning: `distplot` is a deprecated function and will be removed in a future version. Please adapt your code to use either `displot` (a figure-level function with similar flexibility) or `histplot` (an axes-level function for histograms).\n",
            "  warnings.warn(msg, FutureWarning)\n"
          ]
        },
        {
          "output_type": "execute_result",
          "data": {
            "text/plain": [
              "(<matplotlib.axes._subplots.AxesSubplot at 0x7fc472dd8890>,\n",
              " <matplotlib.axes._subplots.AxesSubplot at 0x7fc472dd8890>)"
            ]
          },
          "metadata": {},
          "execution_count": 24
        },
        {
          "output_type": "display_data",
          "data": {
            "text/plain": [
              "<Figure size 432x288 with 1 Axes>"
            ],
            "image/png": "[encoded data removed]"
          },
          "metadata": {
            "needs_background": "light"
          }
        }
      ]
    },
    {
      "cell_type": "code",
      "source": [
        "# CONCATENANDO RESULTADOS\n",
        "PiorEficiencia = pd.merge(PiorEmbarque, PiorDesembarque, left_index=True, right_index=True)\n",
        "PiorEficiencia['total'] = PiorEficiencia['DEP_DELAY'] + PiorEficiencia['ARR_DELAY']\n",
        "\n",
        "# FILTRANDO OS 75% COM A PIOR MEDIA DE EFICIENCIA\n",
        "media_pior_eficiencia = PiorEficiencia['total']\n",
        "quartile75 = np.percentile(media_pior_eficiencia, 75)\n",
        "PiorEficiencia = PiorEficiencia[PiorEficiencia['total'] < quartile75]\n",
        "\n",
        "# SELECIONANDO OS 10 MELHORES\n",
        "Top10PiorEficiencia = PiorEficiencia.sort_values(by='total', ascending=True).reset_index(drop=True)[:11]\n",
        "Top10PiorEficiencia = Top10PiorEficiencia.rename(columns={\"ORIGIN\": \"AEROPORTO\", \"DEP_DELAY\": \"EMBARQUE\", \"ARR_DELAY\": \"DESEMBARQUE\" , \"total\": \"EFICIENCIA\"})"
      ],
      "metadata": {
        "id": "ELpbxkeNU7ej"
      },
      "execution_count": null,
      "outputs": []
    },
    {
      "cell_type": "code",
      "source": [
        "Top10PiorEficiencia = Top10PiorEficiencia[['AEROPORTO', 'EMBARQUE', 'DESEMBARQUE', 'EFICIENCIA']]"
      ],
      "metadata": {
        "id": "9WMaQdD4VnTs"
      },
      "execution_count": null,
      "outputs": []
    },
    {
      "cell_type": "markdown",
      "source": [
        "#### Comparando os Filtros"
      ],
      "metadata": {
        "id": "L7ZF1QYX9DZs"
      }
    },
    {
      "cell_type": "code",
      "source": [
        "Top10PiorEficiencia"
      ],
      "metadata": {
        "colab": {
          "base_uri": "https://localhost:8080/",
          "height": 394
        },
        "id": "q59BIYJzVspE",
        "outputId": "dd12785c-ab2f-4072-d4d6-bdbce6310eb5"
      },
      "execution_count": null,
      "outputs": [
        {
          "output_type": "execute_result",
          "data": {
            "text/plain": [
              "   AEROPORTO   EMBARQUE  DESEMBARQUE  EFICIENCIA\n",
              "0        SBN  11.974989     8.023321   19.998310\n",
              "1        ORD  12.089051     8.007464   20.096515\n",
              "2        RIC  12.115888     8.297556   20.413444\n",
              "3        CRW  12.427360     8.057026   20.484386\n",
              "4        BOS  12.160863     8.477968   20.638830\n",
              "5        EAU  11.502152     9.538240   21.040392\n",
              "6        AVL  11.611883     9.487671   21.099553\n",
              "7        SUX  12.181897     9.081953   21.263850\n",
              "8        LGA  12.188961     9.229375   21.418335\n",
              "9        JLN  12.750958     8.721717   21.472674\n",
              "10       CHO  13.514366     8.044206   21.558572"
            ],
            "text/html": [
              "\n",
              "  <div id=\"df-a2eb8366-5ec2-4803-bcde-63cdf32d79cc\">\n",
              "    <div class=\"colab-df-container\">\n",
              "      <div>\n",
              "<style scoped>\n",
              "    .dataframe tbody tr th:only-of-type {\n",
              "        vertical-align: middle;\n",
              "    }\n",
              "\n",
              "    .dataframe tbody tr th {\n",
              "        vertical-align: top;\n",
              "    }\n",
              "\n",
              "    .dataframe thead th {\n",
              "        text-align: right;\n",
              "    }\n",
              "</style>\n",
              "<table border=\"1\" class=\"dataframe\">\n",
              "  <thead>\n",
              "    <tr style=\"text-align: right;\">\n",
              "      <th></th>\n",
              "      <th>AEROPORTO</th>\n",
              "      <th>EMBARQUE</th>\n",
              "      <th>DESEMBARQUE</th>\n",
              "      <th>EFICIENCIA</th>\n",
              "    </tr>\n",
              "  </thead>\n",
              "  <tbody>\n",
              "    <tr>\n",
              "      <th>0</th>\n",
              "      <td>SBN</td>\n",
              "      <td>11.974989</td>\n",
              "      <td>8.023321</td>\n",
              "      <td>19.998310</td>\n",
              "    </tr>\n",
              "    <tr>\n",
              "      <th>1</th>\n",
              "      <td>ORD</td>\n",
              "      <td>12.089051</td>\n",
              "      <td>8.007464</td>\n",
              "      <td>20.096515</td>\n",
              "    </tr>\n",
              "    <tr>\n",
              "      <th>2</th>\n",
              "      <td>RIC</td>\n",
              "      <td>12.115888</td>\n",
              "      <td>8.297556</td>\n",
              "      <td>20.413444</td>\n",
              "    </tr>\n",
              "    <tr>\n",
              "      <th>3</th>\n",
              "      <td>CRW</td>\n",
              "      <td>12.427360</td>\n",
              "      <td>8.057026</td>\n",
              "      <td>20.484386</td>\n",
              "    </tr>\n",
              "    <tr>\n",
              "      <th>4</th>\n",
              "      <td>BOS</td>\n",
              "      <td>12.160863</td>\n",
              "      <td>8.477968</td>\n",
              "      <td>20.638830</td>\n",
              "    </tr>\n",
              "    <tr>\n",
              "      <th>5</th>\n",
              "      <td>EAU</td>\n",
              "      <td>11.502152</td>\n",
              "      <td>9.538240</td>\n",
              "      <td>21.040392</td>\n",
              "    </tr>\n",
              "    <tr>\n",
              "      <th>6</th>\n",
              "      <td>AVL</td>\n",
              "      <td>11.611883</td>\n",
              "      <td>9.487671</td>\n",
              "      <td>21.099553</td>\n",
              "    </tr>\n",
              "    <tr>\n",
              "      <th>7</th>\n",
              "      <td>SUX</td>\n",
              "      <td>12.181897</td>\n",
              "      <td>9.081953</td>\n",
              "      <td>21.263850</td>\n",
              "    </tr>\n",
              "    <tr>\n",
              "      <th>8</th>\n",
              "      <td>LGA</td>\n",
              "      <td>12.188961</td>\n",
              "      <td>9.229375</td>\n",
              "      <td>21.418335</td>\n",
              "    </tr>\n",
              "    <tr>\n",
              "      <th>9</th>\n",
              "      <td>JLN</td>\n",
              "      <td>12.750958</td>\n",
              "      <td>8.721717</td>\n",
              "      <td>21.472674</td>\n",
              "    </tr>\n",
              "    <tr>\n",
              "      <th>10</th>\n",
              "      <td>CHO</td>\n",
              "      <td>13.514366</td>\n",
              "      <td>8.044206</td>\n",
              "      <td>21.558572</td>\n",
              "    </tr>\n",
              "  </tbody>\n",
              "</table>\n",
              "</div>\n",
              "      <button class=\"colab-df-convert\" onclick=\"convertToInteractive('df-a2eb8366-5ec2-4803-bcde-63cdf32d79cc')\"\n",
              "              title=\"Convert this dataframe to an interactive table.\"\n",
              "              style=\"display:none;\">\n",
              "        \n",
              "  <svg xmlns=\"http://www.w3.org/2000/svg\" height=\"24px\"viewBox=\"0 0 24 24\"\n",
              "       width=\"24px\">\n",
              "    <path d=\"M0 0h24v24H0V0z\" fill=\"none\"/>\n",
              "    <path d=\"M18.56 5.44l.94 2.06.94-2.06 2.06-.94-2.06-.94-.94-2.06-.94 2.06-2.06.94zm-11 1L8.5 8.5l.94-2.06 2.06-.94-2.06-.94L8.5 2.5l-.94 2.06-2.06.94zm10 10l.94 2.06.94-2.06 2.06-.94-2.06-.94-.94-2.06-.94 2.06-2.06.94z\"/><path d=\"M17.41 7.96l-1.37-1.37c-.4-.4-.92-.59-1.43-.59-.52 0-1.04.2-1.43.59L10.3 9.45l-7.72 7.72c-.78.78-.78 2.05 0 2.83L4 21.41c.39.39.9.59 1.41.59.51 0 1.02-.2 1.41-.59l7.78-7.78 2.81-2.81c.8-.78.8-2.07 0-2.86zM5.41 20L4 18.59l7.72-7.72 1.47 1.35L5.41 20z\"/>\n",
              "  </svg>\n",
              "      </button>\n",
              "      \n",
              "  <style>\n",
              "    .colab-df-container {\n",
              "      display:flex;\n",
              "      flex-wrap:wrap;\n",
              "      gap: 12px;\n",
              "    }\n",
              "\n",
              "    .colab-df-convert {\n",
              "      background-color: #E8F0FE;\n",
              "      border: none;\n",
              "      border-radius: 50%;\n",
              "      cursor: pointer;\n",
              "      display: none;\n",
              "      fill: #1967D2;\n",
              "      height: 32px;\n",
              "      padding: 0 0 0 0;\n",
              "      width: 32px;\n",
              "    }\n",
              "\n",
              "    .colab-df-convert:hover {\n",
              "      background-color: #E2EBFA;\n",
              "      box-shadow: 0px 1px 2px rgba(60, 64, 67, 0.3), 0px 1px 3px 1px rgba(60, 64, 67, 0.15);\n",
              "      fill: #174EA6;\n",
              "    }\n",
              "\n",
              "    [theme=dark] .colab-df-convert {\n",
              "      background-color: #3B4455;\n",
              "      fill: #D2E3FC;\n",
              "    }\n",
              "\n",
              "    [theme=dark] .colab-df-convert:hover {\n",
              "      background-color: #434B5C;\n",
              "      box-shadow: 0px 1px 3px 1px rgba(0, 0, 0, 0.15);\n",
              "      filter: drop-shadow(0px 1px 2px rgba(0, 0, 0, 0.3));\n",
              "      fill: #FFFFFF;\n",
              "    }\n",
              "  </style>\n",
              "\n",
              "      <script>\n",
              "        const buttonEl =\n",
              "          document.querySelector('#df-a2eb8366-5ec2-4803-bcde-63cdf32d79cc button.colab-df-convert');\n",
              "        buttonEl.style.display =\n",
              "          google.colab.kernel.accessAllowed ? 'block' : 'none';\n",
              "\n",
              "        async function convertToInteractive(key) {\n",
              "          const element = document.querySelector('#df-a2eb8366-5ec2-4803-bcde-63cdf32d79cc');\n",
              "          const dataTable =\n",
              "            await google.colab.kernel.invokeFunction('convertToInteractive',\n",
              "                                                     [key], {});\n",
              "          if (!dataTable) return;\n",
              "\n",
              "          const docLinkHtml = 'Like what you see? Visit the ' +\n",
              "            '<a target=\"_blank\" href=https://colab.research.google.com/notebooks/data_table.ipynb>data table notebook</a>'\n",
              "            + ' to learn more about interactive tables.';\n",
              "          element.innerHTML = '';\n",
              "          dataTable['output_type'] = 'display_data';\n",
              "          await google.colab.output.renderOutput(dataTable, element);\n",
              "          const docLink = document.createElement('div');\n",
              "          docLink.innerHTML = docLinkHtml;\n",
              "          element.appendChild(docLink);\n",
              "        }\n",
              "      </script>\n",
              "    </div>\n",
              "  </div>\n",
              "  "
            ]
          },
          "metadata": {},
          "execution_count": 27
        }
      ]
    },
    {
      "cell_type": "code",
      "source": [
        "Top10MelhorEficiencia"
      ],
      "metadata": {
        "colab": {
          "base_uri": "https://localhost:8080/",
          "height": 394
        },
        "id": "2fId33BsWSMa",
        "outputId": "f05fcdac-df21-498e-e36f-13d08479035a"
      },
      "execution_count": null,
      "outputs": [
        {
          "output_type": "execute_result",
          "data": {
            "text/plain": [
              "   AEROPORTO  EMBARQUE  DESEMBARQUE  EFICIENCIA\n",
              "0        BRW -7.165498   -10.609859  -17.775357\n",
              "1        EAR -7.884422    -4.727273  -12.611695\n",
              "2        YAK -8.909732    -3.577247  -12.486979\n",
              "3        SCC -7.927711    -3.318478  -11.246189\n",
              "4        LWS -2.472067    -7.641350  -10.113417\n",
              "5        OME -5.186047    -4.721980   -9.908026\n",
              "6        BET -4.766378    -4.774752   -9.541131\n",
              "7        BTM  0.750000    -8.980480   -8.230480\n",
              "8        PSG -6.971950    -0.949509   -7.921459\n",
              "9        OTZ -3.409621    -4.475504   -7.885125\n",
              "10       GST -4.573171    -2.926829   -7.500000"
            ],
            "text/html": [
              "\n",
              "  <div id=\"df-d538e869-71db-4871-ba94-92e18615e19e\">\n",
              "    <div class=\"colab-df-container\">\n",
              "      <div>\n",
              "<style scoped>\n",
              "    .dataframe tbody tr th:only-of-type {\n",
              "        vertical-align: middle;\n",
              "    }\n",
              "\n",
              "    .dataframe tbody tr th {\n",
              "        vertical-align: top;\n",
              "    }\n",
              "\n",
              "    .dataframe thead th {\n",
              "        text-align: right;\n",
              "    }\n",
              "</style>\n",
              "<table border=\"1\" class=\"dataframe\">\n",
              "  <thead>\n",
              "    <tr style=\"text-align: right;\">\n",
              "      <th></th>\n",
              "      <th>AEROPORTO</th>\n",
              "      <th>EMBARQUE</th>\n",
              "      <th>DESEMBARQUE</th>\n",
              "      <th>EFICIENCIA</th>\n",
              "    </tr>\n",
              "  </thead>\n",
              "  <tbody>\n",
              "    <tr>\n",
              "      <th>0</th>\n",
              "      <td>BRW</td>\n",
              "      <td>-7.165498</td>\n",
              "      <td>-10.609859</td>\n",
              "      <td>-17.775357</td>\n",
              "    </tr>\n",
              "    <tr>\n",
              "      <th>1</th>\n",
              "      <td>EAR</td>\n",
              "      <td>-7.884422</td>\n",
              "      <td>-4.727273</td>\n",
              "      <td>-12.611695</td>\n",
              "    </tr>\n",
              "    <tr>\n",
              "      <th>2</th>\n",
              "      <td>YAK</td>\n",
              "      <td>-8.909732</td>\n",
              "      <td>-3.577247</td>\n",
              "      <td>-12.486979</td>\n",
              "    </tr>\n",
              "    <tr>\n",
              "      <th>3</th>\n",
              "      <td>SCC</td>\n",
              "      <td>-7.927711</td>\n",
              "      <td>-3.318478</td>\n",
              "      <td>-11.246189</td>\n",
              "    </tr>\n",
              "    <tr>\n",
              "      <th>4</th>\n",
              "      <td>LWS</td>\n",
              "      <td>-2.472067</td>\n",
              "      <td>-7.641350</td>\n",
              "      <td>-10.113417</td>\n",
              "    </tr>\n",
              "    <tr>\n",
              "      <th>5</th>\n",
              "      <td>OME</td>\n",
              "      <td>-5.186047</td>\n",
              "      <td>-4.721980</td>\n",
              "      <td>-9.908026</td>\n",
              "    </tr>\n",
              "    <tr>\n",
              "      <th>6</th>\n",
              "      <td>BET</td>\n",
              "      <td>-4.766378</td>\n",
              "      <td>-4.774752</td>\n",
              "      <td>-9.541131</td>\n",
              "    </tr>\n",
              "    <tr>\n",
              "      <th>7</th>\n",
              "      <td>BTM</td>\n",
              "      <td>0.750000</td>\n",
              "      <td>-8.980480</td>\n",
              "      <td>-8.230480</td>\n",
              "    </tr>\n",
              "    <tr>\n",
              "      <th>8</th>\n",
              "      <td>PSG</td>\n",
              "      <td>-6.971950</td>\n",
              "      <td>-0.949509</td>\n",
              "      <td>-7.921459</td>\n",
              "    </tr>\n",
              "    <tr>\n",
              "      <th>9</th>\n",
              "      <td>OTZ</td>\n",
              "      <td>-3.409621</td>\n",
              "      <td>-4.475504</td>\n",
              "      <td>-7.885125</td>\n",
              "    </tr>\n",
              "    <tr>\n",
              "      <th>10</th>\n",
              "      <td>GST</td>\n",
              "      <td>-4.573171</td>\n",
              "      <td>-2.926829</td>\n",
              "      <td>-7.500000</td>\n",
              "    </tr>\n",
              "  </tbody>\n",
              "</table>\n",
              "</div>\n",
              "      <button class=\"colab-df-convert\" onclick=\"convertToInteractive('df-d538e869-71db-4871-ba94-92e18615e19e')\"\n",
              "              title=\"Convert this dataframe to an interactive table.\"\n",
              "              style=\"display:none;\">\n",
              "        \n",
              "  <svg xmlns=\"http://www.w3.org/2000/svg\" height=\"24px\"viewBox=\"0 0 24 24\"\n",
              "       width=\"24px\">\n",
              "    <path d=\"M0 0h24v24H0V0z\" fill=\"none\"/>\n",
              "    <path d=\"M18.56 5.44l.94 2.06.94-2.06 2.06-.94-2.06-.94-.94-2.06-.94 2.06-2.06.94zm-11 1L8.5 8.5l.94-2.06 2.06-.94-2.06-.94L8.5 2.5l-.94 2.06-2.06.94zm10 10l.94 2.06.94-2.06 2.06-.94-2.06-.94-.94-2.06-.94 2.06-2.06.94z\"/><path d=\"M17.41 7.96l-1.37-1.37c-.4-.4-.92-.59-1.43-.59-.52 0-1.04.2-1.43.59L10.3 9.45l-7.72 7.72c-.78.78-.78 2.05 0 2.83L4 21.41c.39.39.9.59 1.41.59.51 0 1.02-.2 1.41-.59l7.78-7.78 2.81-2.81c.8-.78.8-2.07 0-2.86zM5.41 20L4 18.59l7.72-7.72 1.47 1.35L5.41 20z\"/>\n",
              "  </svg>\n",
              "      </button>\n",
              "      \n",
              "  <style>\n",
              "    .colab-df-container {\n",
              "      display:flex;\n",
              "      flex-wrap:wrap;\n",
              "      gap: 12px;\n",
              "    }\n",
              "\n",
              "    .colab-df-convert {\n",
              "      background-color: #E8F0FE;\n",
              "      border: none;\n",
              "      border-radius: 50%;\n",
              "      cursor: pointer;\n",
              "      display: none;\n",
              "      fill: #1967D2;\n",
              "      height: 32px;\n",
              "      padding: 0 0 0 0;\n",
              "      width: 32px;\n",
              "    }\n",
              "\n",
              "    .colab-df-convert:hover {\n",
              "      background-color: #E2EBFA;\n",
              "      box-shadow: 0px 1px 2px rgba(60, 64, 67, 0.3), 0px 1px 3px 1px rgba(60, 64, 67, 0.15);\n",
              "      fill: #174EA6;\n",
              "    }\n",
              "\n",
              "    [theme=dark] .colab-df-convert {\n",
              "      background-color: #3B4455;\n",
              "      fill: #D2E3FC;\n",
              "    }\n",
              "\n",
              "    [theme=dark] .colab-df-convert:hover {\n",
              "      background-color: #434B5C;\n",
              "      box-shadow: 0px 1px 3px 1px rgba(0, 0, 0, 0.15);\n",
              "      filter: drop-shadow(0px 1px 2px rgba(0, 0, 0, 0.3));\n",
              "      fill: #FFFFFF;\n",
              "    }\n",
              "  </style>\n",
              "\n",
              "      <script>\n",
              "        const buttonEl =\n",
              "          document.querySelector('#df-d538e869-71db-4871-ba94-92e18615e19e button.colab-df-convert');\n",
              "        buttonEl.style.display =\n",
              "          google.colab.kernel.accessAllowed ? 'block' : 'none';\n",
              "\n",
              "        async function convertToInteractive(key) {\n",
              "          const element = document.querySelector('#df-d538e869-71db-4871-ba94-92e18615e19e');\n",
              "          const dataTable =\n",
              "            await google.colab.kernel.invokeFunction('convertToInteractive',\n",
              "                                                     [key], {});\n",
              "          if (!dataTable) return;\n",
              "\n",
              "          const docLinkHtml = 'Like what you see? Visit the ' +\n",
              "            '<a target=\"_blank\" href=https://colab.research.google.com/notebooks/data_table.ipynb>data table notebook</a>'\n",
              "            + ' to learn more about interactive tables.';\n",
              "          element.innerHTML = '';\n",
              "          dataTable['output_type'] = 'display_data';\n",
              "          await google.colab.output.renderOutput(dataTable, element);\n",
              "          const docLink = document.createElement('div');\n",
              "          docLink.innerHTML = docLinkHtml;\n",
              "          element.appendChild(docLink);\n",
              "        }\n",
              "      </script>\n",
              "    </div>\n",
              "  </div>\n",
              "  "
            ]
          },
          "metadata": {},
          "execution_count": 28
        }
      ]
    },
    {
      "cell_type": "markdown",
      "source": [
        "\n",
        "\n",
        "###  Extraindo os meses de data\n"
      ],
      "metadata": {
        "id": "I4poEFMJOCy-"
      }
    },
    {
      "cell_type": "code",
      "source": [
        "df['FL_DATE'] = pd.to_datetime(df['FL_DATE'])"
      ],
      "metadata": {
        "id": "KwfUgn3VHhe9"
      },
      "execution_count": null,
      "outputs": []
    },
    {
      "cell_type": "code",
      "source": [
        "meses = {\n",
        "    'January' : 'Janeiro',\n",
        "    'February' : 'Fevereiro',\n",
        "    'March' : 'Março',\n",
        "    'April' : 'Abril',\n",
        "    'May' : 'Maio',\n",
        "    'June' : 'Junho',\n",
        "    'July' : 'Julho',\n",
        "    'August' : 'Agosto',\n",
        "    'September' : 'Setembro',\n",
        "    'October' : 'Outubro',\n",
        "    'November' : 'Novembro',\n",
        "    'December' : 'Dezembro',\n",
        "}\n",
        "df['FL_DATE'] = pd.to_datetime(df['FL_DATE'])\n",
        "df['MESES'] = df['FL_DATE'].dt.month_name().rename(meses)"
      ],
      "metadata": {
        "id": "bPI5ADp9HStU"
      },
      "execution_count": null,
      "outputs": []
    },
    {
      "cell_type": "code",
      "source": [
        "df['MESES'] = df['FL_DATE'].dt.month_name().replace(meses)"
      ],
      "metadata": {
        "id": "YfSVOfUIK2CV"
      },
      "execution_count": null,
      "outputs": []
    },
    {
      "cell_type": "markdown",
      "source": [
        "* Extraindo o dataframe"
      ],
      "metadata": {
        "id": "XQzu1_KKOOP9"
      }
    },
    {
      "cell_type": "code",
      "source": [
        "col = {\n",
        "    'FL_DATE': 'DATA',\n",
        "    'OP_CARRIER': 'EMPRESA',\n",
        "    'ORIGIN': 'AEROPORTO',\n",
        "    'CANCELLED': 'CANCELADOS',\n",
        "    'DEP_DELAY': 'EMBARQUE',\n",
        "    'ARR_DELAY': 'DESEMBARQUE',\n",
        "}\n",
        "dataframe = df[['FL_DATE', 'OP_CARRIER', 'ORIGIN', 'CANCELLED', 'DEP_DELAY', 'ARR_DELAY']].rename(columns=col)"
      ],
      "metadata": {
        "id": "DBMQMld4NVMW"
      },
      "execution_count": null,
      "outputs": []
    },
    {
      "cell_type": "code",
      "source": [
        "lista = list(Top10MelhorEficiencia['AEROPORTO'].unique())\n",
        "df_melhores = dataframe.query(f\"AEROPORTO=={lista}\")"
      ],
      "metadata": {
        "id": "lW9zLR8nP7tc"
      },
      "execution_count": null,
      "outputs": []
    },
    {
      "cell_type": "code",
      "source": [
        "lista = list(Top10PiorEficiencia['AEROPORTO'].unique())\n",
        "df_piores = dataframe.query(f\"AEROPORTO=={lista}\")"
      ],
      "metadata": {
        "id": "yt7KoG0Ek6eb"
      },
      "execution_count": null,
      "outputs": []
    },
    {
      "cell_type": "markdown",
      "source": [
        "### Salvando arquivos csv para visualizar no powebi"
      ],
      "metadata": {
        "id": "rA1g2a79YQqi"
      }
    },
    {
      "cell_type": "code",
      "source": [
        "df_melhores.to_csv('AeroportoMelhores2018.csv')"
      ],
      "metadata": {
        "id": "KG4CCfI5OwiT"
      },
      "execution_count": null,
      "outputs": []
    },
    {
      "cell_type": "code",
      "source": [
        "df_piores.to_csv('AeroportoPiores2018.csv')"
      ],
      "metadata": {
        "id": "WIHCYqcllOHs"
      },
      "execution_count": null,
      "outputs": []
    },
    {
      "cell_type": "code",
      "source": [
        "Top10MelhorEficiencia.to_csv('MelhorEficiencia.csv')"
      ],
      "metadata": {
        "id": "uCI7lgsbPRtk"
      },
      "execution_count": null,
      "outputs": []
    },
    {
      "cell_type": "code",
      "source": [
        "Top10PiorEficiencia.to_csv('PiorEficiencia.csv')"
      ],
      "metadata": {
        "id": "d1vSbngdYUFT"
      },
      "execution_count": null,
      "outputs": []
    }
  ]
}